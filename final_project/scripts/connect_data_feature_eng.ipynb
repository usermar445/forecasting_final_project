{
 "cells": [
  {
   "cell_type": "code",
   "execution_count": 116,
   "metadata": {
    "collapsed": true,
    "ExecuteTime": {
     "end_time": "2023-12-20T11:22:43.470840Z",
     "start_time": "2023-12-20T11:22:43.441618Z"
    }
   },
   "outputs": [],
   "source": [
    "ON_COLAB = False\n",
    "if ON_COLAB:\n",
    "    from google.colab import drive\n",
    "    drive.mount('/content/drive')"
   ]
  },
  {
   "cell_type": "code",
   "execution_count": 117,
   "outputs": [],
   "source": [
    "import pandas as pd\n",
    "import numpy as np"
   ],
   "metadata": {
    "collapsed": false,
    "ExecuteTime": {
     "end_time": "2023-12-20T11:22:43.491677Z",
     "start_time": "2023-12-20T11:22:43.446922Z"
    }
   }
  },
  {
   "cell_type": "code",
   "execution_count": 118,
   "outputs": [],
   "source": [
    "sales_train = pd.read_csv(\"../data/sales_train_validation_afcs2023.csv\")\n",
    "prices = pd.read_csv(\"../data/sell_prices_afcs2023.csv\")\n",
    "calendar = pd.read_csv(\"../data/calendar_afcs2023.csv\", parse_dates=[\"date\"])"
   ],
   "metadata": {
    "collapsed": false,
    "ExecuteTime": {
     "end_time": "2023-12-20T11:22:43.654523Z",
     "start_time": "2023-12-20T11:22:43.451022Z"
    }
   }
  },
  {
   "cell_type": "code",
   "execution_count": 119,
   "outputs": [],
   "source": [
    "date_range = pd.Series(pd.date_range(start=\"2011-01-29\", end=\"2016-06-19\", freq='D')).dt.strftime('%Y-%m-%d').to_list()\n",
    "date_range.insert(0, \"id\")\n",
    "sales_train.columns = date_range[:len(sales_train.columns)]\n",
    "sales_train[['item_id', \"Loc1\", \"Loc2\", \"Type\"]] = sales_train.id.str.rsplit(\"_\", n=3, expand=True)\n",
    "sales_train = sales_train.drop(\"id\", axis=1)\n",
    "sales_train = sales_train.melt(id_vars=['item_id', \"Loc1\", \"Loc2\", \"Type\"], var_name=\"date\", value_name=\"sales_amount\")\n",
    "sales_train[\"date\"] = pd.to_datetime(sales_train[\"date\"])"
   ],
   "metadata": {
    "collapsed": false,
    "ExecuteTime": {
     "end_time": "2023-12-20T11:22:44.269010Z",
     "start_time": "2023-12-20T11:22:43.654829Z"
    }
   }
  },
  {
   "cell_type": "code",
   "execution_count": 120,
   "outputs": [],
   "source": [
    "sales_train = pd.merge(sales_train, calendar, on='date')\n",
    "sales_train = sales_train.drop(columns=['Loc1', 'Loc2'])\n",
    "sales_train = pd.merge(sales_train, prices, on=['wm_yr_wk', 'item_id'],how ='left')\n",
    "sales_train = sales_train.drop('store_id',axis=1)"
   ],
   "metadata": {
    "collapsed": false,
    "ExecuteTime": {
     "end_time": "2023-12-20T11:22:45.244600Z",
     "start_time": "2023-12-20T11:22:44.275867Z"
    }
   }
  },
  {
   "cell_type": "markdown",
   "source": [
    "### Items were added at different times"
   ],
   "metadata": {
    "collapsed": false
   }
  },
  {
   "cell_type": "code",
   "execution_count": 121,
   "outputs": [
    {
     "data": {
      "text/plain": "         item_id       date\n0    FOODS_3_001 2011-01-29\n1    FOODS_3_002 2013-10-19\n2    FOODS_3_003 2015-01-17\n3    FOODS_3_004 2013-06-01\n4    FOODS_3_005 2011-01-29\n..           ...        ...\n818  FOODS_3_823 2011-02-19\n819  FOODS_3_824 2011-01-29\n820  FOODS_3_825 2011-01-29\n821  FOODS_3_826 2013-04-13\n822  FOODS_3_827 2014-04-26\n\n[823 rows x 2 columns]",
      "text/html": "<div>\n<style scoped>\n    .dataframe tbody tr th:only-of-type {\n        vertical-align: middle;\n    }\n\n    .dataframe tbody tr th {\n        vertical-align: top;\n    }\n\n    .dataframe thead th {\n        text-align: right;\n    }\n</style>\n<table border=\"1\" class=\"dataframe\">\n  <thead>\n    <tr style=\"text-align: right;\">\n      <th></th>\n      <th>item_id</th>\n      <th>date</th>\n    </tr>\n  </thead>\n  <tbody>\n    <tr>\n      <th>0</th>\n      <td>FOODS_3_001</td>\n      <td>2011-01-29</td>\n    </tr>\n    <tr>\n      <th>1</th>\n      <td>FOODS_3_002</td>\n      <td>2013-10-19</td>\n    </tr>\n    <tr>\n      <th>2</th>\n      <td>FOODS_3_003</td>\n      <td>2015-01-17</td>\n    </tr>\n    <tr>\n      <th>3</th>\n      <td>FOODS_3_004</td>\n      <td>2013-06-01</td>\n    </tr>\n    <tr>\n      <th>4</th>\n      <td>FOODS_3_005</td>\n      <td>2011-01-29</td>\n    </tr>\n    <tr>\n      <th>...</th>\n      <td>...</td>\n      <td>...</td>\n    </tr>\n    <tr>\n      <th>818</th>\n      <td>FOODS_3_823</td>\n      <td>2011-02-19</td>\n    </tr>\n    <tr>\n      <th>819</th>\n      <td>FOODS_3_824</td>\n      <td>2011-01-29</td>\n    </tr>\n    <tr>\n      <th>820</th>\n      <td>FOODS_3_825</td>\n      <td>2011-01-29</td>\n    </tr>\n    <tr>\n      <th>821</th>\n      <td>FOODS_3_826</td>\n      <td>2013-04-13</td>\n    </tr>\n    <tr>\n      <th>822</th>\n      <td>FOODS_3_827</td>\n      <td>2014-04-26</td>\n    </tr>\n  </tbody>\n</table>\n<p>823 rows × 2 columns</p>\n</div>"
     },
     "execution_count": 121,
     "metadata": {},
     "output_type": "execute_result"
    }
   ],
   "source": [
    "date_added = sales_train[sales_train.sell_price.notna()].groupby(\"item_id\")[\"date\"].min().reset_index()\n",
    "date_added"
   ],
   "metadata": {
    "collapsed": false,
    "ExecuteTime": {
     "end_time": "2023-12-20T11:22:45.451969Z",
     "start_time": "2023-12-20T11:22:45.246425Z"
    }
   }
  },
  {
   "cell_type": "code",
   "execution_count": 122,
   "outputs": [],
   "source": [
    "date_added[\"week_added\"] = 1\n",
    "sales_train = sales_train.merge(date_added, on=[\"item_id\", \"date\"], how='left')\n",
    "sales_train[\"week_added\"] = sales_train[\"week_added\"].fillna(0)"
   ],
   "metadata": {
    "collapsed": false,
    "ExecuteTime": {
     "end_time": "2023-12-20T11:22:45.816944Z",
     "start_time": "2023-12-20T11:22:45.539533Z"
    }
   }
  },
  {
   "cell_type": "markdown",
   "source": [
    "### Cleaning categorical values to ease one-hot encoding later on"
   ],
   "metadata": {
    "collapsed": false
   }
  },
  {
   "cell_type": "code",
   "execution_count": 123,
   "outputs": [],
   "source": [
    "sales_train[['event_name_1', 'event_name_2']] = sales_train[['event_name_1', 'event_name_2']].fillna(\"No event\")"
   ],
   "metadata": {
    "collapsed": false,
    "ExecuteTime": {
     "end_time": "2023-12-20T11:22:46.007243Z",
     "start_time": "2023-12-20T11:22:45.819651Z"
    }
   }
  },
  {
   "cell_type": "code",
   "execution_count": 124,
   "outputs": [],
   "source": [
    "sales_train[['event_type_1', 'event_type_2']] = sales_train[['event_type_1', 'event_type_2']].fillna(\"No event type\")"
   ],
   "metadata": {
    "collapsed": false,
    "ExecuteTime": {
     "end_time": "2023-12-20T11:22:46.159516Z",
     "start_time": "2023-12-20T11:22:46.009616Z"
    }
   }
  },
  {
   "cell_type": "code",
   "execution_count": 125,
   "outputs": [],
   "source": [
    "sales_train = sales_train.sort_values([\"item_id\", \"date\"])"
   ],
   "metadata": {
    "collapsed": false,
    "ExecuteTime": {
     "end_time": "2023-12-20T11:22:47.068243Z",
     "start_time": "2023-12-20T11:22:46.160928Z"
    }
   }
  },
  {
   "cell_type": "markdown",
   "source": [
    "### Feature engineering on sales price"
   ],
   "metadata": {
    "collapsed": false
   }
  },
  {
   "cell_type": "markdown",
   "source": [
    "#### Filling Null values for sales price if no items not added yet (do not have a price)."
   ],
   "metadata": {
    "collapsed": false
   }
  },
  {
   "cell_type": "code",
   "execution_count": 126,
   "outputs": [],
   "source": [
    "sales_train['sell_price'] = sales_train['sell_price'].fillna(0)"
   ],
   "metadata": {
    "collapsed": false,
    "ExecuteTime": {
     "end_time": "2023-12-20T11:22:47.081747Z",
     "start_time": "2023-12-20T11:22:47.069145Z"
    }
   }
  },
  {
   "cell_type": "markdown",
   "source": [
    "#### Creating weekly shifted/ lagged values\n",
    "\n",
    "The assumption is the following:\n",
    "Since we are transposing $price_t$ to $price_{t+1}$, for $price_0$ for each product we need to backfill values for the first week, since these were shifted into the future."
   ],
   "metadata": {
    "collapsed": false
   }
  },
  {
   "cell_type": "code",
   "execution_count": 127,
   "outputs": [
    {
     "data": {
      "text/plain": "             item_id        Type       date  sales_amount  wm_yr_wk  \\\n0        FOODS_3_001  validation 2011-01-29             0     11101   \n823      FOODS_3_001  validation 2011-01-30             2     11101   \n1646     FOODS_3_001  validation 2011-01-31             1     11101   \n2469     FOODS_3_001  validation 2011-02-01             3     11101   \n3292     FOODS_3_001  validation 2011-02-02             0     11101   \n...              ...         ...        ...           ...       ...   \n1571106  FOODS_3_827  validation 2016-04-20             0     11612   \n1571929  FOODS_3_827  validation 2016-04-21             1     11612   \n1572752  FOODS_3_827  validation 2016-04-22             0     11612   \n1573575  FOODS_3_827  validation 2016-04-23             0     11613   \n1574398  FOODS_3_827  validation 2016-04-24             3     11613   \n\n           weekday  wday  month  year event_name_1   event_type_1  \\\n0         Saturday     1      1  2011     No event  No event type   \n823         Sunday     2      1  2011     No event  No event type   \n1646        Monday     3      1  2011     No event  No event type   \n2469       Tuesday     4      2  2011     No event  No event type   \n3292     Wednesday     5      2  2011     No event  No event type   \n...            ...   ...    ...   ...          ...            ...   \n1571106  Wednesday     5      4  2016     No event  No event type   \n1571929   Thursday     6      4  2016     No event  No event type   \n1572752     Friday     7      4  2016     No event  No event type   \n1573575   Saturday     1      4  2016     No event  No event type   \n1574398     Sunday     2      4  2016     No event  No event type   \n\n        event_name_2   event_type_2  snap_TX  sell_price  week_added  \n0           No event  No event type        0        2.28         1.0  \n823         No event  No event type        0        2.28         0.0  \n1646        No event  No event type        0        2.28         0.0  \n2469        No event  No event type        1        2.28         0.0  \n3292        No event  No event type        0        2.28         0.0  \n...              ...            ...      ...         ...         ...  \n1571106     No event  No event type        0        1.00         0.0  \n1571929     No event  No event type        0        1.00         0.0  \n1572752     No event  No event type        0        1.00         0.0  \n1573575     No event  No event type        0        1.00         0.0  \n1574398     No event  No event type        0        1.00         0.0  \n\n[1574399 rows x 16 columns]",
      "text/html": "<div>\n<style scoped>\n    .dataframe tbody tr th:only-of-type {\n        vertical-align: middle;\n    }\n\n    .dataframe tbody tr th {\n        vertical-align: top;\n    }\n\n    .dataframe thead th {\n        text-align: right;\n    }\n</style>\n<table border=\"1\" class=\"dataframe\">\n  <thead>\n    <tr style=\"text-align: right;\">\n      <th></th>\n      <th>item_id</th>\n      <th>Type</th>\n      <th>date</th>\n      <th>sales_amount</th>\n      <th>wm_yr_wk</th>\n      <th>weekday</th>\n      <th>wday</th>\n      <th>month</th>\n      <th>year</th>\n      <th>event_name_1</th>\n      <th>event_type_1</th>\n      <th>event_name_2</th>\n      <th>event_type_2</th>\n      <th>snap_TX</th>\n      <th>sell_price</th>\n      <th>week_added</th>\n    </tr>\n  </thead>\n  <tbody>\n    <tr>\n      <th>0</th>\n      <td>FOODS_3_001</td>\n      <td>validation</td>\n      <td>2011-01-29</td>\n      <td>0</td>\n      <td>11101</td>\n      <td>Saturday</td>\n      <td>1</td>\n      <td>1</td>\n      <td>2011</td>\n      <td>No event</td>\n      <td>No event type</td>\n      <td>No event</td>\n      <td>No event type</td>\n      <td>0</td>\n      <td>2.28</td>\n      <td>1.0</td>\n    </tr>\n    <tr>\n      <th>823</th>\n      <td>FOODS_3_001</td>\n      <td>validation</td>\n      <td>2011-01-30</td>\n      <td>2</td>\n      <td>11101</td>\n      <td>Sunday</td>\n      <td>2</td>\n      <td>1</td>\n      <td>2011</td>\n      <td>No event</td>\n      <td>No event type</td>\n      <td>No event</td>\n      <td>No event type</td>\n      <td>0</td>\n      <td>2.28</td>\n      <td>0.0</td>\n    </tr>\n    <tr>\n      <th>1646</th>\n      <td>FOODS_3_001</td>\n      <td>validation</td>\n      <td>2011-01-31</td>\n      <td>1</td>\n      <td>11101</td>\n      <td>Monday</td>\n      <td>3</td>\n      <td>1</td>\n      <td>2011</td>\n      <td>No event</td>\n      <td>No event type</td>\n      <td>No event</td>\n      <td>No event type</td>\n      <td>0</td>\n      <td>2.28</td>\n      <td>0.0</td>\n    </tr>\n    <tr>\n      <th>2469</th>\n      <td>FOODS_3_001</td>\n      <td>validation</td>\n      <td>2011-02-01</td>\n      <td>3</td>\n      <td>11101</td>\n      <td>Tuesday</td>\n      <td>4</td>\n      <td>2</td>\n      <td>2011</td>\n      <td>No event</td>\n      <td>No event type</td>\n      <td>No event</td>\n      <td>No event type</td>\n      <td>1</td>\n      <td>2.28</td>\n      <td>0.0</td>\n    </tr>\n    <tr>\n      <th>3292</th>\n      <td>FOODS_3_001</td>\n      <td>validation</td>\n      <td>2011-02-02</td>\n      <td>0</td>\n      <td>11101</td>\n      <td>Wednesday</td>\n      <td>5</td>\n      <td>2</td>\n      <td>2011</td>\n      <td>No event</td>\n      <td>No event type</td>\n      <td>No event</td>\n      <td>No event type</td>\n      <td>0</td>\n      <td>2.28</td>\n      <td>0.0</td>\n    </tr>\n    <tr>\n      <th>...</th>\n      <td>...</td>\n      <td>...</td>\n      <td>...</td>\n      <td>...</td>\n      <td>...</td>\n      <td>...</td>\n      <td>...</td>\n      <td>...</td>\n      <td>...</td>\n      <td>...</td>\n      <td>...</td>\n      <td>...</td>\n      <td>...</td>\n      <td>...</td>\n      <td>...</td>\n      <td>...</td>\n    </tr>\n    <tr>\n      <th>1571106</th>\n      <td>FOODS_3_827</td>\n      <td>validation</td>\n      <td>2016-04-20</td>\n      <td>0</td>\n      <td>11612</td>\n      <td>Wednesday</td>\n      <td>5</td>\n      <td>4</td>\n      <td>2016</td>\n      <td>No event</td>\n      <td>No event type</td>\n      <td>No event</td>\n      <td>No event type</td>\n      <td>0</td>\n      <td>1.00</td>\n      <td>0.0</td>\n    </tr>\n    <tr>\n      <th>1571929</th>\n      <td>FOODS_3_827</td>\n      <td>validation</td>\n      <td>2016-04-21</td>\n      <td>1</td>\n      <td>11612</td>\n      <td>Thursday</td>\n      <td>6</td>\n      <td>4</td>\n      <td>2016</td>\n      <td>No event</td>\n      <td>No event type</td>\n      <td>No event</td>\n      <td>No event type</td>\n      <td>0</td>\n      <td>1.00</td>\n      <td>0.0</td>\n    </tr>\n    <tr>\n      <th>1572752</th>\n      <td>FOODS_3_827</td>\n      <td>validation</td>\n      <td>2016-04-22</td>\n      <td>0</td>\n      <td>11612</td>\n      <td>Friday</td>\n      <td>7</td>\n      <td>4</td>\n      <td>2016</td>\n      <td>No event</td>\n      <td>No event type</td>\n      <td>No event</td>\n      <td>No event type</td>\n      <td>0</td>\n      <td>1.00</td>\n      <td>0.0</td>\n    </tr>\n    <tr>\n      <th>1573575</th>\n      <td>FOODS_3_827</td>\n      <td>validation</td>\n      <td>2016-04-23</td>\n      <td>0</td>\n      <td>11613</td>\n      <td>Saturday</td>\n      <td>1</td>\n      <td>4</td>\n      <td>2016</td>\n      <td>No event</td>\n      <td>No event type</td>\n      <td>No event</td>\n      <td>No event type</td>\n      <td>0</td>\n      <td>1.00</td>\n      <td>0.0</td>\n    </tr>\n    <tr>\n      <th>1574398</th>\n      <td>FOODS_3_827</td>\n      <td>validation</td>\n      <td>2016-04-24</td>\n      <td>3</td>\n      <td>11613</td>\n      <td>Sunday</td>\n      <td>2</td>\n      <td>4</td>\n      <td>2016</td>\n      <td>No event</td>\n      <td>No event type</td>\n      <td>No event</td>\n      <td>No event type</td>\n      <td>0</td>\n      <td>1.00</td>\n      <td>0.0</td>\n    </tr>\n  </tbody>\n</table>\n<p>1574399 rows × 16 columns</p>\n</div>"
     },
     "execution_count": 127,
     "metadata": {},
     "output_type": "execute_result"
    }
   ],
   "source": [
    "sales_train"
   ],
   "metadata": {
    "collapsed": false,
    "ExecuteTime": {
     "end_time": "2023-12-20T11:22:47.104498Z",
     "start_time": "2023-12-20T11:22:47.097956Z"
    }
   }
  },
  {
   "cell_type": "code",
   "execution_count": 128,
   "outputs": [],
   "source": [
    "lagged_8_days = (\n",
    "    sales_train\n",
    "    .set_index(\"date\")\n",
    "    .groupby(\"item_id\", as_index=False)[[\"sell_price\", \"item_id\", \"sales_amount\", \"event_name_1\", \"event_name_2\", \"event_type_1\", \"event_type_2\"]]\n",
    "    .shift(periods=7)\n",
    "    .reset_index()\n",
    "    .bfill()\n",
    "    .rename(columns={\n",
    "        \"sell_price\": \"7dl_sell_price\",\n",
    "        \"sales_amount\": \"7dl_sales_amount\",\n",
    "        \"event_name_1\": \"7dl_event_name_1\",\n",
    "        \"event_name_2\": \"7dl_event_name_2\",\n",
    "        \"event_type_1\": \"7dl_event_type_1\",\n",
    "        \"event_type_2\": \"7dl_event_type_2\"\n",
    "    })\n",
    ")\n",
    "\n",
    "sales_train = sales_train.merge(lagged_8_days, on=[\"date\", \"item_id\"])"
   ],
   "metadata": {
    "collapsed": false,
    "ExecuteTime": {
     "end_time": "2023-12-20T11:22:49.275652Z",
     "start_time": "2023-12-20T11:22:47.104823Z"
    }
   }
  },
  {
   "cell_type": "markdown",
   "source": [
    "### Adding Weekly, Monthly, Quaterly and Yearly Percent change in prices"
   ],
   "metadata": {
    "collapsed": false
   }
  },
  {
   "cell_type": "code",
   "execution_count": 159,
   "outputs": [],
   "source": [
    "weekly_changes_in_price = (\n",
    "    sales_train\n",
    "    .groupby(['item_id', \"wm_yr_wk\"])['sell_price']\n",
    "    .mean()\n",
    "    .rolling(window=2)\n",
    "    .apply(lambda x: (x.iloc[0] - x.iloc[1])/ 100)\n",
    "    .reset_index()\n",
    ")"
   ],
   "metadata": {
    "collapsed": false,
    "ExecuteTime": {
     "end_time": "2023-12-20T11:39:56.164448Z",
     "start_time": "2023-12-20T11:39:44.771851Z"
    }
   }
  },
  {
   "cell_type": "code",
   "execution_count": 162,
   "outputs": [
    {
     "data": {
      "text/plain": "            item_id  wm_yr_wk  sell_price\n22468   FOODS_3_084     11101      0.1873\n81378   FOODS_3_299     11101      0.1873\n29866   FOODS_3_111     11101      0.1198\n108230  FOODS_3_397     11101      0.1148\n188786  FOODS_3_691     11101      0.0998\n...             ...       ...         ...\n108048  FOODS_3_396     11241     -0.1098\n46941   FOODS_3_173     11236     -0.1098\n81104   FOODS_3_298     11101     -0.1610\n22194   FOODS_3_083     11101     -0.1700\n0       FOODS_3_001     11101         NaN\n\n[225502 rows x 3 columns]",
      "text/html": "<div>\n<style scoped>\n    .dataframe tbody tr th:only-of-type {\n        vertical-align: middle;\n    }\n\n    .dataframe tbody tr th {\n        vertical-align: top;\n    }\n\n    .dataframe thead th {\n        text-align: right;\n    }\n</style>\n<table border=\"1\" class=\"dataframe\">\n  <thead>\n    <tr style=\"text-align: right;\">\n      <th></th>\n      <th>item_id</th>\n      <th>wm_yr_wk</th>\n      <th>sell_price</th>\n    </tr>\n  </thead>\n  <tbody>\n    <tr>\n      <th>22468</th>\n      <td>FOODS_3_084</td>\n      <td>11101</td>\n      <td>0.1873</td>\n    </tr>\n    <tr>\n      <th>81378</th>\n      <td>FOODS_3_299</td>\n      <td>11101</td>\n      <td>0.1873</td>\n    </tr>\n    <tr>\n      <th>29866</th>\n      <td>FOODS_3_111</td>\n      <td>11101</td>\n      <td>0.1198</td>\n    </tr>\n    <tr>\n      <th>108230</th>\n      <td>FOODS_3_397</td>\n      <td>11101</td>\n      <td>0.1148</td>\n    </tr>\n    <tr>\n      <th>188786</th>\n      <td>FOODS_3_691</td>\n      <td>11101</td>\n      <td>0.0998</td>\n    </tr>\n    <tr>\n      <th>...</th>\n      <td>...</td>\n      <td>...</td>\n      <td>...</td>\n    </tr>\n    <tr>\n      <th>108048</th>\n      <td>FOODS_3_396</td>\n      <td>11241</td>\n      <td>-0.1098</td>\n    </tr>\n    <tr>\n      <th>46941</th>\n      <td>FOODS_3_173</td>\n      <td>11236</td>\n      <td>-0.1098</td>\n    </tr>\n    <tr>\n      <th>81104</th>\n      <td>FOODS_3_298</td>\n      <td>11101</td>\n      <td>-0.1610</td>\n    </tr>\n    <tr>\n      <th>22194</th>\n      <td>FOODS_3_083</td>\n      <td>11101</td>\n      <td>-0.1700</td>\n    </tr>\n    <tr>\n      <th>0</th>\n      <td>FOODS_3_001</td>\n      <td>11101</td>\n      <td>NaN</td>\n    </tr>\n  </tbody>\n</table>\n<p>225502 rows × 3 columns</p>\n</div>"
     },
     "execution_count": 162,
     "metadata": {},
     "output_type": "execute_result"
    }
   ],
   "source": [
    "weekly_changes_in_price.sort_values(\"sell_price\", ascending=False)"
   ],
   "metadata": {
    "collapsed": false,
    "ExecuteTime": {
     "end_time": "2023-12-20T11:40:40.312505Z",
     "start_time": "2023-12-20T11:40:40.286875Z"
    }
   }
  },
  {
   "cell_type": "code",
   "execution_count": 165,
   "outputs": [
    {
     "data": {
      "text/plain": "            item_id  wm_yr_wk  sell_price\n0       FOODS_3_001     11101         NaN\n1       FOODS_3_001     11102         0.0\n2       FOODS_3_001     11103         0.0\n3       FOODS_3_001     11104         0.0\n4       FOODS_3_001     11105         0.0\n...             ...       ...         ...\n225497  FOODS_3_827     11609         0.0\n225498  FOODS_3_827     11610         0.0\n225499  FOODS_3_827     11611         0.0\n225500  FOODS_3_827     11612         0.0\n225501  FOODS_3_827     11613         0.0\n\n[225502 rows x 3 columns]",
      "text/html": "<div>\n<style scoped>\n    .dataframe tbody tr th:only-of-type {\n        vertical-align: middle;\n    }\n\n    .dataframe tbody tr th {\n        vertical-align: top;\n    }\n\n    .dataframe thead th {\n        text-align: right;\n    }\n</style>\n<table border=\"1\" class=\"dataframe\">\n  <thead>\n    <tr style=\"text-align: right;\">\n      <th></th>\n      <th>item_id</th>\n      <th>wm_yr_wk</th>\n      <th>sell_price</th>\n    </tr>\n  </thead>\n  <tbody>\n    <tr>\n      <th>0</th>\n      <td>FOODS_3_001</td>\n      <td>11101</td>\n      <td>NaN</td>\n    </tr>\n    <tr>\n      <th>1</th>\n      <td>FOODS_3_001</td>\n      <td>11102</td>\n      <td>0.0</td>\n    </tr>\n    <tr>\n      <th>2</th>\n      <td>FOODS_3_001</td>\n      <td>11103</td>\n      <td>0.0</td>\n    </tr>\n    <tr>\n      <th>3</th>\n      <td>FOODS_3_001</td>\n      <td>11104</td>\n      <td>0.0</td>\n    </tr>\n    <tr>\n      <th>4</th>\n      <td>FOODS_3_001</td>\n      <td>11105</td>\n      <td>0.0</td>\n    </tr>\n    <tr>\n      <th>...</th>\n      <td>...</td>\n      <td>...</td>\n      <td>...</td>\n    </tr>\n    <tr>\n      <th>225497</th>\n      <td>FOODS_3_827</td>\n      <td>11609</td>\n      <td>0.0</td>\n    </tr>\n    <tr>\n      <th>225498</th>\n      <td>FOODS_3_827</td>\n      <td>11610</td>\n      <td>0.0</td>\n    </tr>\n    <tr>\n      <th>225499</th>\n      <td>FOODS_3_827</td>\n      <td>11611</td>\n      <td>0.0</td>\n    </tr>\n    <tr>\n      <th>225500</th>\n      <td>FOODS_3_827</td>\n      <td>11612</td>\n      <td>0.0</td>\n    </tr>\n    <tr>\n      <th>225501</th>\n      <td>FOODS_3_827</td>\n      <td>11613</td>\n      <td>0.0</td>\n    </tr>\n  </tbody>\n</table>\n<p>225502 rows × 3 columns</p>\n</div>"
     },
     "execution_count": 165,
     "metadata": {},
     "output_type": "execute_result"
    }
   ],
   "source": [
    "wm_yr"
   ],
   "metadata": {
    "collapsed": false,
    "ExecuteTime": {
     "end_time": "2023-12-20T11:42:31.199971Z",
     "start_time": "2023-12-20T11:42:31.065813Z"
    }
   }
  },
  {
   "cell_type": "code",
   "execution_count": 167,
   "outputs": [
    {
     "data": {
      "text/plain": "            item_id        Type       date  sales_amount  wm_yr_wk    weekday  \\\n206604  FOODS_3_110  validation 2011-01-29             0     11101   Saturday   \n206605  FOODS_3_110  validation 2011-01-30             0     11101     Sunday   \n206606  FOODS_3_110  validation 2011-01-31             0     11101     Monday   \n206607  FOODS_3_110  validation 2011-02-01             0     11101    Tuesday   \n206608  FOODS_3_110  validation 2011-02-02             0     11101  Wednesday   \n206609  FOODS_3_110  validation 2011-02-03             0     11101   Thursday   \n206610  FOODS_3_110  validation 2011-02-04             0     11101     Friday   \n206611  FOODS_3_110  validation 2011-02-05             0     11102   Saturday   \n206612  FOODS_3_110  validation 2011-02-06             0     11102     Sunday   \n206613  FOODS_3_110  validation 2011-02-07             0     11102     Monday   \n206614  FOODS_3_110  validation 2011-02-08             0     11102    Tuesday   \n206615  FOODS_3_110  validation 2011-02-09             0     11102  Wednesday   \n206616  FOODS_3_110  validation 2011-02-10             0     11102   Thursday   \n206617  FOODS_3_110  validation 2011-02-11             0     11102     Friday   \n\n        wday  month  year event_name_1  ... snap_TX sell_price week_added  \\\n206604     1      1  2011     No event  ...       0        0.0        0.0   \n206605     2      1  2011     No event  ...       0        0.0        0.0   \n206606     3      1  2011     No event  ...       0        0.0        0.0   \n206607     4      2  2011     No event  ...       1        0.0        0.0   \n206608     5      2  2011     No event  ...       0        0.0        0.0   \n206609     6      2  2011     No event  ...       1        0.0        0.0   \n206610     7      2  2011     No event  ...       0        0.0        0.0   \n206611     1      2  2011     No event  ...       1        0.0        0.0   \n206612     2      2  2011    SuperBowl  ...       1        0.0        0.0   \n206613     3      2  2011     No event  ...       1        0.0        0.0   \n206614     4      2  2011     No event  ...       0        0.0        0.0   \n206615     5      2  2011     No event  ...       1        0.0        0.0   \n206616     6      2  2011     No event  ...       0        0.0        0.0   \n206617     7      2  2011     No event  ...       1        0.0        0.0   \n\n        7dl_sell_price  7dl_sales_amount  7dl_event_name_1  7dl_event_name_2  \\\n206604             0.0               0.0          No event          No event   \n206605             0.0               0.0          No event          No event   \n206606             0.0               0.0          No event          No event   \n206607             0.0               0.0          No event          No event   \n206608             0.0               0.0          No event          No event   \n206609             0.0               0.0          No event          No event   \n206610             0.0               0.0          No event          No event   \n206611             0.0               0.0          No event          No event   \n206612             0.0               0.0          No event          No event   \n206613             0.0               0.0          No event          No event   \n206614             0.0               0.0          No event          No event   \n206615             0.0               0.0          No event          No event   \n206616             0.0               0.0          No event          No event   \n206617             0.0               0.0          No event          No event   \n\n        7dl_event_type_1 7dl_event_type_2 weekly_pct_change_price  \n206604     No event type    No event type                    -1.0  \n206605     No event type    No event type                    -1.0  \n206606     No event type    No event type                    -1.0  \n206607     No event type    No event type                    -1.0  \n206608     No event type    No event type                    -1.0  \n206609     No event type    No event type                    -1.0  \n206610     No event type    No event type                    -1.0  \n206611     No event type    No event type                     NaN  \n206612     No event type    No event type                     NaN  \n206613     No event type    No event type                     NaN  \n206614     No event type    No event type                     NaN  \n206615     No event type    No event type                     NaN  \n206616     No event type    No event type                     NaN  \n206617     No event type    No event type                     NaN  \n\n[14 rows x 23 columns]",
      "text/html": "<div>\n<style scoped>\n    .dataframe tbody tr th:only-of-type {\n        vertical-align: middle;\n    }\n\n    .dataframe tbody tr th {\n        vertical-align: top;\n    }\n\n    .dataframe thead th {\n        text-align: right;\n    }\n</style>\n<table border=\"1\" class=\"dataframe\">\n  <thead>\n    <tr style=\"text-align: right;\">\n      <th></th>\n      <th>item_id</th>\n      <th>Type</th>\n      <th>date</th>\n      <th>sales_amount</th>\n      <th>wm_yr_wk</th>\n      <th>weekday</th>\n      <th>wday</th>\n      <th>month</th>\n      <th>year</th>\n      <th>event_name_1</th>\n      <th>...</th>\n      <th>snap_TX</th>\n      <th>sell_price</th>\n      <th>week_added</th>\n      <th>7dl_sell_price</th>\n      <th>7dl_sales_amount</th>\n      <th>7dl_event_name_1</th>\n      <th>7dl_event_name_2</th>\n      <th>7dl_event_type_1</th>\n      <th>7dl_event_type_2</th>\n      <th>weekly_pct_change_price</th>\n    </tr>\n  </thead>\n  <tbody>\n    <tr>\n      <th>206604</th>\n      <td>FOODS_3_110</td>\n      <td>validation</td>\n      <td>2011-01-29</td>\n      <td>0</td>\n      <td>11101</td>\n      <td>Saturday</td>\n      <td>1</td>\n      <td>1</td>\n      <td>2011</td>\n      <td>No event</td>\n      <td>...</td>\n      <td>0</td>\n      <td>0.0</td>\n      <td>0.0</td>\n      <td>0.0</td>\n      <td>0.0</td>\n      <td>No event</td>\n      <td>No event</td>\n      <td>No event type</td>\n      <td>No event type</td>\n      <td>-1.0</td>\n    </tr>\n    <tr>\n      <th>206605</th>\n      <td>FOODS_3_110</td>\n      <td>validation</td>\n      <td>2011-01-30</td>\n      <td>0</td>\n      <td>11101</td>\n      <td>Sunday</td>\n      <td>2</td>\n      <td>1</td>\n      <td>2011</td>\n      <td>No event</td>\n      <td>...</td>\n      <td>0</td>\n      <td>0.0</td>\n      <td>0.0</td>\n      <td>0.0</td>\n      <td>0.0</td>\n      <td>No event</td>\n      <td>No event</td>\n      <td>No event type</td>\n      <td>No event type</td>\n      <td>-1.0</td>\n    </tr>\n    <tr>\n      <th>206606</th>\n      <td>FOODS_3_110</td>\n      <td>validation</td>\n      <td>2011-01-31</td>\n      <td>0</td>\n      <td>11101</td>\n      <td>Monday</td>\n      <td>3</td>\n      <td>1</td>\n      <td>2011</td>\n      <td>No event</td>\n      <td>...</td>\n      <td>0</td>\n      <td>0.0</td>\n      <td>0.0</td>\n      <td>0.0</td>\n      <td>0.0</td>\n      <td>No event</td>\n      <td>No event</td>\n      <td>No event type</td>\n      <td>No event type</td>\n      <td>-1.0</td>\n    </tr>\n    <tr>\n      <th>206607</th>\n      <td>FOODS_3_110</td>\n      <td>validation</td>\n      <td>2011-02-01</td>\n      <td>0</td>\n      <td>11101</td>\n      <td>Tuesday</td>\n      <td>4</td>\n      <td>2</td>\n      <td>2011</td>\n      <td>No event</td>\n      <td>...</td>\n      <td>1</td>\n      <td>0.0</td>\n      <td>0.0</td>\n      <td>0.0</td>\n      <td>0.0</td>\n      <td>No event</td>\n      <td>No event</td>\n      <td>No event type</td>\n      <td>No event type</td>\n      <td>-1.0</td>\n    </tr>\n    <tr>\n      <th>206608</th>\n      <td>FOODS_3_110</td>\n      <td>validation</td>\n      <td>2011-02-02</td>\n      <td>0</td>\n      <td>11101</td>\n      <td>Wednesday</td>\n      <td>5</td>\n      <td>2</td>\n      <td>2011</td>\n      <td>No event</td>\n      <td>...</td>\n      <td>0</td>\n      <td>0.0</td>\n      <td>0.0</td>\n      <td>0.0</td>\n      <td>0.0</td>\n      <td>No event</td>\n      <td>No event</td>\n      <td>No event type</td>\n      <td>No event type</td>\n      <td>-1.0</td>\n    </tr>\n    <tr>\n      <th>206609</th>\n      <td>FOODS_3_110</td>\n      <td>validation</td>\n      <td>2011-02-03</td>\n      <td>0</td>\n      <td>11101</td>\n      <td>Thursday</td>\n      <td>6</td>\n      <td>2</td>\n      <td>2011</td>\n      <td>No event</td>\n      <td>...</td>\n      <td>1</td>\n      <td>0.0</td>\n      <td>0.0</td>\n      <td>0.0</td>\n      <td>0.0</td>\n      <td>No event</td>\n      <td>No event</td>\n      <td>No event type</td>\n      <td>No event type</td>\n      <td>-1.0</td>\n    </tr>\n    <tr>\n      <th>206610</th>\n      <td>FOODS_3_110</td>\n      <td>validation</td>\n      <td>2011-02-04</td>\n      <td>0</td>\n      <td>11101</td>\n      <td>Friday</td>\n      <td>7</td>\n      <td>2</td>\n      <td>2011</td>\n      <td>No event</td>\n      <td>...</td>\n      <td>0</td>\n      <td>0.0</td>\n      <td>0.0</td>\n      <td>0.0</td>\n      <td>0.0</td>\n      <td>No event</td>\n      <td>No event</td>\n      <td>No event type</td>\n      <td>No event type</td>\n      <td>-1.0</td>\n    </tr>\n    <tr>\n      <th>206611</th>\n      <td>FOODS_3_110</td>\n      <td>validation</td>\n      <td>2011-02-05</td>\n      <td>0</td>\n      <td>11102</td>\n      <td>Saturday</td>\n      <td>1</td>\n      <td>2</td>\n      <td>2011</td>\n      <td>No event</td>\n      <td>...</td>\n      <td>1</td>\n      <td>0.0</td>\n      <td>0.0</td>\n      <td>0.0</td>\n      <td>0.0</td>\n      <td>No event</td>\n      <td>No event</td>\n      <td>No event type</td>\n      <td>No event type</td>\n      <td>NaN</td>\n    </tr>\n    <tr>\n      <th>206612</th>\n      <td>FOODS_3_110</td>\n      <td>validation</td>\n      <td>2011-02-06</td>\n      <td>0</td>\n      <td>11102</td>\n      <td>Sunday</td>\n      <td>2</td>\n      <td>2</td>\n      <td>2011</td>\n      <td>SuperBowl</td>\n      <td>...</td>\n      <td>1</td>\n      <td>0.0</td>\n      <td>0.0</td>\n      <td>0.0</td>\n      <td>0.0</td>\n      <td>No event</td>\n      <td>No event</td>\n      <td>No event type</td>\n      <td>No event type</td>\n      <td>NaN</td>\n    </tr>\n    <tr>\n      <th>206613</th>\n      <td>FOODS_3_110</td>\n      <td>validation</td>\n      <td>2011-02-07</td>\n      <td>0</td>\n      <td>11102</td>\n      <td>Monday</td>\n      <td>3</td>\n      <td>2</td>\n      <td>2011</td>\n      <td>No event</td>\n      <td>...</td>\n      <td>1</td>\n      <td>0.0</td>\n      <td>0.0</td>\n      <td>0.0</td>\n      <td>0.0</td>\n      <td>No event</td>\n      <td>No event</td>\n      <td>No event type</td>\n      <td>No event type</td>\n      <td>NaN</td>\n    </tr>\n    <tr>\n      <th>206614</th>\n      <td>FOODS_3_110</td>\n      <td>validation</td>\n      <td>2011-02-08</td>\n      <td>0</td>\n      <td>11102</td>\n      <td>Tuesday</td>\n      <td>4</td>\n      <td>2</td>\n      <td>2011</td>\n      <td>No event</td>\n      <td>...</td>\n      <td>0</td>\n      <td>0.0</td>\n      <td>0.0</td>\n      <td>0.0</td>\n      <td>0.0</td>\n      <td>No event</td>\n      <td>No event</td>\n      <td>No event type</td>\n      <td>No event type</td>\n      <td>NaN</td>\n    </tr>\n    <tr>\n      <th>206615</th>\n      <td>FOODS_3_110</td>\n      <td>validation</td>\n      <td>2011-02-09</td>\n      <td>0</td>\n      <td>11102</td>\n      <td>Wednesday</td>\n      <td>5</td>\n      <td>2</td>\n      <td>2011</td>\n      <td>No event</td>\n      <td>...</td>\n      <td>1</td>\n      <td>0.0</td>\n      <td>0.0</td>\n      <td>0.0</td>\n      <td>0.0</td>\n      <td>No event</td>\n      <td>No event</td>\n      <td>No event type</td>\n      <td>No event type</td>\n      <td>NaN</td>\n    </tr>\n    <tr>\n      <th>206616</th>\n      <td>FOODS_3_110</td>\n      <td>validation</td>\n      <td>2011-02-10</td>\n      <td>0</td>\n      <td>11102</td>\n      <td>Thursday</td>\n      <td>6</td>\n      <td>2</td>\n      <td>2011</td>\n      <td>No event</td>\n      <td>...</td>\n      <td>0</td>\n      <td>0.0</td>\n      <td>0.0</td>\n      <td>0.0</td>\n      <td>0.0</td>\n      <td>No event</td>\n      <td>No event</td>\n      <td>No event type</td>\n      <td>No event type</td>\n      <td>NaN</td>\n    </tr>\n    <tr>\n      <th>206617</th>\n      <td>FOODS_3_110</td>\n      <td>validation</td>\n      <td>2011-02-11</td>\n      <td>0</td>\n      <td>11102</td>\n      <td>Friday</td>\n      <td>7</td>\n      <td>2</td>\n      <td>2011</td>\n      <td>No event</td>\n      <td>...</td>\n      <td>1</td>\n      <td>0.0</td>\n      <td>0.0</td>\n      <td>0.0</td>\n      <td>0.0</td>\n      <td>No event</td>\n      <td>No event</td>\n      <td>No event type</td>\n      <td>No event type</td>\n      <td>NaN</td>\n    </tr>\n  </tbody>\n</table>\n<p>14 rows × 23 columns</p>\n</div>"
     },
     "execution_count": 167,
     "metadata": {},
     "output_type": "execute_result"
    }
   ],
   "source": [
    "sales_train[(sales_train[\"item_id\"] == \"FOODS_3_110\") & (sales_train[\"wm_yr_wk\"].isin([11101, 11100, 11102]))]"
   ],
   "metadata": {
    "collapsed": false,
    "ExecuteTime": {
     "end_time": "2023-12-20T11:44:34.453289Z",
     "start_time": "2023-12-20T11:44:34.428511Z"
    }
   }
  },
  {
   "cell_type": "code",
   "execution_count": null,
   "outputs": [],
   "source": [],
   "metadata": {
    "collapsed": false
   }
  }
 ],
 "metadata": {
  "kernelspec": {
   "display_name": "Python 3",
   "language": "python",
   "name": "python3"
  },
  "language_info": {
   "codemirror_mode": {
    "name": "ipython",
    "version": 2
   },
   "file_extension": ".py",
   "mimetype": "text/x-python",
   "name": "python",
   "nbconvert_exporter": "python",
   "pygments_lexer": "ipython2",
   "version": "2.7.6"
  }
 },
 "nbformat": 4,
 "nbformat_minor": 0
}
