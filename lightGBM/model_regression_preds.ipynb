{
 "cells": [
  {
   "cell_type": "code",
   "execution_count": 1,
   "metadata": {
    "collapsed": true,
    "ExecuteTime": {
     "end_time": "2023-12-21T15:52:33.732373Z",
     "start_time": "2023-12-21T15:52:32.425220Z"
    }
   },
   "outputs": [],
   "source": [
    "import lightgbm as lgb\n",
    "import numpy as np\n",
    "import joblib\n",
    "import pandas as pd\n",
    "from sklearn.model_selection import TimeSeriesSplit\n",
    "from sklearn.metrics import mean_squared_error, mean_absolute_error, mean_absolute_percentage_error, mean_poisson_deviance"
   ]
  },
  {
   "cell_type": "code",
   "execution_count": 2,
   "outputs": [],
   "source": [
    "ORDINAL_COLUMNS = [\n",
    "    \"item_id\",\n",
    "    \"is_weekday\",\n",
    "    \"is_weekend\",\n",
    "    \"is_holiday\",\n",
    "    \"price_category\",\n",
    "    \"7dl_price_category\",\n",
    "    \"event_name_1\",\n",
    "    \"event_type_1\",\n",
    "    \"event_name_2\",\n",
    "    \"event_type_2\",\n",
    "    \"7dl_event_name_1\",\n",
    "    \"7dl_event_name_2\",\n",
    "    \"7dl_event_type_1\",\n",
    "    \"7dl_event_type_2\",\n",
    "    \"snap_TX\"\n",
    "]"
   ],
   "metadata": {
    "collapsed": false,
    "ExecuteTime": {
     "end_time": "2023-12-21T15:52:33.738490Z",
     "start_time": "2023-12-21T15:52:33.735942Z"
    }
   }
  },
  {
   "cell_type": "code",
   "execution_count": 3,
   "outputs": [],
   "source": [
    "COLUMNS_TO_DROP = [\"wm_yr_wk\", \"date\", \"weekday\"]"
   ],
   "metadata": {
    "collapsed": false,
    "ExecuteTime": {
     "end_time": "2023-12-21T15:52:33.743336Z",
     "start_time": "2023-12-21T15:52:33.740112Z"
    }
   }
  },
  {
   "cell_type": "code",
   "execution_count": 4,
   "outputs": [],
   "source": [
    "n_splits = 5\n",
    "tscv = TimeSeriesSplit(n_splits=n_splits)"
   ],
   "metadata": {
    "collapsed": false,
    "ExecuteTime": {
     "end_time": "2023-12-21T15:52:33.746829Z",
     "start_time": "2023-12-21T15:52:33.744203Z"
    }
   }
  },
  {
   "cell_type": "code",
   "execution_count": 5,
   "outputs": [],
   "source": [
    "params = {\n",
    "    'objective': 'regression',\n",
    "    'metric': 'rmse',\n",
    "    'boosting_type': 'gbdt',\n",
    "    'num_leaves':  120,\n",
    "    'learning_rate': 0.3,\n",
    "    'feature_fraction': 0.9\n",
    "}"
   ],
   "metadata": {
    "collapsed": false,
    "ExecuteTime": {
     "end_time": "2023-12-21T15:52:33.759598Z",
     "start_time": "2023-12-21T15:52:33.750593Z"
    }
   }
  },
  {
   "cell_type": "code",
   "execution_count": 6,
   "outputs": [],
   "source": [
    "sales_train = pd.read_pickle(\"../data/fulling_connected_feature_eng_train_data.pkl\")\n",
    "sales_test = pd.read_pickle(\"../data/fulling_connected_feature_eng_test_data.pkl\")"
   ],
   "metadata": {
    "collapsed": false,
    "ExecuteTime": {
     "end_time": "2023-12-21T15:52:34.415682Z",
     "start_time": "2023-12-21T15:52:33.755529Z"
    }
   }
  },
  {
   "cell_type": "code",
   "execution_count": 7,
   "outputs": [],
   "source": [
    "sales_train = sales_train.drop(COLUMNS_TO_DROP, axis=1)\n",
    "sales_test = sales_test.drop(COLUMNS_TO_DROP, axis=1)"
   ],
   "metadata": {
    "collapsed": false,
    "ExecuteTime": {
     "end_time": "2023-12-21T15:52:34.738169Z",
     "start_time": "2023-12-21T15:52:34.416549Z"
    }
   }
  },
  {
   "cell_type": "code",
   "execution_count": 8,
   "outputs": [],
   "source": [
    "sales_train[ORDINAL_COLUMNS] = sales_train[ORDINAL_COLUMNS].astype(\"category\")\n",
    "sales_test[ORDINAL_COLUMNS] = sales_test[ORDINAL_COLUMNS].astype(\"category\")"
   ],
   "metadata": {
    "collapsed": false,
    "ExecuteTime": {
     "end_time": "2023-12-21T15:52:35.723242Z",
     "start_time": "2023-12-21T15:52:34.740011Z"
    }
   }
  },
  {
   "cell_type": "code",
   "execution_count": 9,
   "outputs": [],
   "source": [
    "outcome_col = \"sales_amount\"\n",
    "predictor_cols = [col for col in sales_train.columns if col !=  outcome_col]\n",
    "train_predictors = sales_train[predictor_cols]\n",
    "train_outcome = sales_train[outcome_col]\n",
    "test_predictors = sales_test[predictor_cols]\n",
    "test_outcome = sales_test[outcome_col]"
   ],
   "metadata": {
    "collapsed": false,
    "ExecuteTime": {
     "end_time": "2023-12-21T15:52:35.795238Z",
     "start_time": "2023-12-21T15:52:35.724061Z"
    }
   }
  },
  {
   "cell_type": "code",
   "execution_count": 10,
   "outputs": [],
   "source": [
    "lgb_train = lgb.Dataset(train_predictors, label=train_outcome, categorical_feature=ORDINAL_COLUMNS, free_raw_data = False)"
   ],
   "metadata": {
    "collapsed": false,
    "ExecuteTime": {
     "end_time": "2023-12-21T15:52:35.800765Z",
     "start_time": "2023-12-21T15:52:35.796599Z"
    }
   }
  },
  {
   "cell_type": "code",
   "execution_count": 11,
   "outputs": [
    {
     "name": "stdout",
     "output_type": "stream",
     "text": [
      "[LightGBM] [Warning] Categorical features with more bins than the configured maximum bin number found.\n",
      "[LightGBM] [Warning] For categorical features, max_bin and max_bin_by_feature may be ignored with a large number of categories.\n",
      "[LightGBM] [Info] Auto-choosing row-wise multi-threading, the overhead of testing was 0.011201 seconds.\n",
      "You can set `force_row_wise=true` to remove the overhead.\n",
      "And if memory is not enough, you can set `force_col_wise=true`.\n",
      "[LightGBM] [Info] Total Bins 2622\n",
      "[LightGBM] [Info] Number of data points in the train set: 262404, number of used features: 29\n",
      "[LightGBM] [Info] Auto-choosing row-wise multi-threading, the overhead of testing was 0.021651 seconds.\n",
      "You can set `force_row_wise=true` to remove the overhead.\n",
      "And if memory is not enough, you can set `force_col_wise=true`.\n",
      "[LightGBM] [Info] Total Bins 2622\n",
      "[LightGBM] [Info] Number of data points in the train set: 524803, number of used features: 29\n",
      "[LightGBM] [Info] Auto-choosing row-wise multi-threading, the overhead of testing was 0.031260 seconds.\n",
      "You can set `force_row_wise=true` to remove the overhead.\n",
      "And if memory is not enough, you can set `force_col_wise=true`.\n",
      "[LightGBM] [Info] Total Bins 2622\n",
      "[LightGBM] [Info] Number of data points in the train set: 787202, number of used features: 29\n",
      "[LightGBM] [Info] Auto-choosing row-wise multi-threading, the overhead of testing was 0.042287 seconds.\n",
      "You can set `force_row_wise=true` to remove the overhead.\n",
      "And if memory is not enough, you can set `force_col_wise=true`.\n",
      "[LightGBM] [Info] Total Bins 2622\n",
      "[LightGBM] [Info] Number of data points in the train set: 1049601, number of used features: 29\n",
      "[LightGBM] [Info] Auto-choosing row-wise multi-threading, the overhead of testing was 0.054431 seconds.\n",
      "You can set `force_row_wise=true` to remove the overhead.\n",
      "And if memory is not enough, you can set `force_col_wise=true`.\n",
      "[LightGBM] [Info] Total Bins 2622\n",
      "[LightGBM] [Info] Number of data points in the train set: 1312000, number of used features: 29\n",
      "[LightGBM] [Info] Start training from score 2.015667\n",
      "[LightGBM] [Info] Start training from score 1.847966\n",
      "[LightGBM] [Info] Start training from score 1.823796\n",
      "[LightGBM] [Info] Start training from score 1.780335\n",
      "[LightGBM] [Info] Start training from score 1.874267\n"
     ]
    }
   ],
   "source": [
    "cv_results = lgb.cv(\n",
    "    params,\n",
    "    lgb_train,\n",
    "    num_boost_round=1000,\n",
    "    folds=tscv.split(train_predictors),\n",
    ")"
   ],
   "metadata": {
    "collapsed": false,
    "ExecuteTime": {
     "end_time": "2023-12-21T15:53:46.075164Z",
     "start_time": "2023-12-21T15:52:35.801573Z"
    }
   }
  },
  {
   "cell_type": "code",
   "execution_count": 12,
   "outputs": [
    {
     "name": "stdout",
     "output_type": "stream",
     "text": [
      "[LightGBM] [Info] Auto-choosing row-wise multi-threading, the overhead of testing was 0.062431 seconds.\n",
      "You can set `force_row_wise=true` to remove the overhead.\n",
      "And if memory is not enough, you can set `force_col_wise=true`.\n",
      "[LightGBM] [Info] Total Bins 2622\n",
      "[LightGBM] [Info] Number of data points in the train set: 1574399, number of used features: 29\n",
      "[LightGBM] [Info] Start training from score 1.903873\n"
     ]
    }
   ],
   "source": [
    "best_num_boost_round = len(cv_results[\"valid rmse-mean\"])\n",
    "final_model = lgb.train(params, lgb_train, num_boost_round=best_num_boost_round)"
   ],
   "metadata": {
    "collapsed": false,
    "ExecuteTime": {
     "end_time": "2023-12-21T15:54:07.264125Z",
     "start_time": "2023-12-21T15:53:46.076724Z"
    }
   }
  },
  {
   "cell_type": "code",
   "execution_count": 13,
   "outputs": [
    {
     "name": "stdout",
     "output_type": "stream",
     "text": [
      "MAE error was: 0.8372347134344229\n",
      "MSE error was: 2.563568364246365\n",
      "RMSE error was: 1.6011147255104379\n",
      "MAPE error was: 1202230778314987.0\n"
     ]
    }
   ],
   "source": [
    "train_predictions = final_model.predict(train_predictors)\n",
    "mae_error = mean_absolute_error(train_outcome, train_predictions)\n",
    "mse_error = mean_squared_error(train_outcome, train_predictions)\n",
    "rmse_error = mean_squared_error(train_outcome, train_predictions, squared=False)\n",
    "mape_error = mean_absolute_percentage_error(train_outcome, train_predictions)\n",
    "print(f\"MAE error was: {mae_error}\")\n",
    "print(f\"MSE error was: {mse_error}\")\n",
    "print(f\"RMSE error was: {rmse_error}\")\n",
    "print(f\"MAPE error was: {mape_error}\")"
   ],
   "metadata": {
    "collapsed": false,
    "ExecuteTime": {
     "end_time": "2023-12-21T15:54:19.533320Z",
     "start_time": "2023-12-21T15:54:07.268544Z"
    }
   }
  },
  {
   "cell_type": "code",
   "execution_count": 14,
   "outputs": [
    {
     "name": "stderr",
     "output_type": "stream",
     "text": [
      "/Users/mladenrm/.local/share/virtualenvs/afcs_assignments-DYfdduJW/lib/python3.11/site-packages/lightgbm/basic.py:693: SettingWithCopyWarning: \n",
      "A value is trying to be set on a copy of a slice from a DataFrame.\n",
      "Try using .loc[row_indexer,col_indexer] = value instead\n",
      "\n",
      "See the caveats in the documentation: https://pandas.pydata.org/pandas-docs/stable/user_guide/indexing.html#returning-a-view-versus-a-copy\n",
      "  data[col] = data[col].cat.set_categories(category)\n"
     ]
    },
    {
     "name": "stdout",
     "output_type": "stream",
     "text": [
      "MAE error was: 1.4074379448012497\n",
      "MSE error was: 9.24557368512411\n",
      "RMSE error was: 3.0406534963925287\n",
      "MAPE error was: 1359835367438114.5\n"
     ]
    }
   ],
   "source": [
    "test_predictions = np.round(final_model.predict(test_predictors))\n",
    "mae_error = mean_absolute_error(test_outcome, test_predictions)\n",
    "mse_error = mean_squared_error(test_outcome, test_predictions)\n",
    "rmse_error = mean_squared_error(test_outcome, test_predictions, squared=False)\n",
    "mape_error = mean_absolute_percentage_error(test_outcome, test_predictions)\n",
    "print(f\"MAE error was: {mae_error}\")\n",
    "print(f\"MSE error was: {mse_error}\")\n",
    "print(f\"RMSE error was: {rmse_error}\")\n",
    "print(f\"MAPE error was: {mape_error}\")"
   ],
   "metadata": {
    "collapsed": false,
    "ExecuteTime": {
     "end_time": "2023-12-21T15:54:19.765889Z",
     "start_time": "2023-12-21T15:54:19.544124Z"
    }
   }
  },
  {
   "cell_type": "code",
   "execution_count": 15,
   "outputs": [
    {
     "data": {
      "text/plain": "['lgbm_poisson_model.pkl']"
     },
     "execution_count": 15,
     "metadata": {},
     "output_type": "execute_result"
    }
   ],
   "source": [
    "joblib.dump(final_model, 'lgbm_poisson_model.pkl')"
   ],
   "metadata": {
    "collapsed": false,
    "ExecuteTime": {
     "end_time": "2023-12-21T15:54:19.925542Z",
     "start_time": "2023-12-21T15:54:19.766569Z"
    }
   }
  },
  {
   "cell_type": "markdown",
   "source": [
    "### Reloading Model to ensure saved correctly"
   ],
   "metadata": {
    "collapsed": false
   }
  },
  {
   "cell_type": "code",
   "execution_count": 16,
   "outputs": [
    {
     "name": "stdout",
     "output_type": "stream",
     "text": [
      "MAE error was: 1.4482807172600267\n",
      "MSE error was: 9.156756556304211\n",
      "RMSE error was: 3.026013310662101\n",
      "MAPE error was: 1518903883475891.8\n"
     ]
    }
   ],
   "source": [
    "model = joblib.load('lgbm_poisson_model.pkl')\n",
    "test_predictions = model.predict(test_predictors)\n",
    "mae_error = mean_absolute_error(test_outcome, test_predictions)\n",
    "mse_error = mean_squared_error(test_outcome, test_predictions)\n",
    "rmse_error = mean_squared_error(test_outcome, test_predictions, squared=False)\n",
    "mape_error = mean_absolute_percentage_error(test_outcome, test_predictions)\n",
    "print(f\"MAE error was: {mae_error}\")\n",
    "print(f\"MSE error was: {mse_error}\")\n",
    "print(f\"RMSE error was: {rmse_error}\")\n",
    "print(f\"MAPE error was: {mape_error}\")"
   ],
   "metadata": {
    "collapsed": false,
    "ExecuteTime": {
     "end_time": "2023-12-21T15:54:20.177162Z",
     "start_time": "2023-12-21T15:54:19.927955Z"
    }
   }
  },
  {
   "cell_type": "code",
   "execution_count": 17,
   "outputs": [],
   "source": [
    "sales_test[\"Predictions\"] = np.round(test_predictions)"
   ],
   "metadata": {
    "collapsed": false,
    "ExecuteTime": {
     "end_time": "2023-12-21T15:54:20.183553Z",
     "start_time": "2023-12-21T15:54:20.178207Z"
    }
   }
  },
  {
   "cell_type": "code",
   "execution_count": 18,
   "outputs": [],
   "source": [
    "cols = pd.Series(\n",
    "    [\n",
    "    \"d_1914\",\n",
    "    \"d_1915\",\n",
    "    \"d_1916\",\n",
    "    \"d_1917\",\n",
    "    \"d_1918\",\n",
    "    \"d_1919\",\n",
    "    \"d_1920\",\n",
    "    \"d_1921\",\n",
    "    \"d_1922\",\n",
    "    \"d_1923\",\n",
    "    \"d_1924\",\n",
    "    \"d_1925\",\n",
    "    \"d_1926\",\n",
    "    \"d_1927\",\n",
    "    \"d_1928\",\n",
    "    \"d_1929\",\n",
    "    \"d_1930\",\n",
    "    \"d_1931\",\n",
    "    \"d_1932\",\n",
    "    \"d_1933\",\n",
    "    \"d_1934\",\n",
    "    \"d_1935\",\n",
    "    \"d_1936\",\n",
    "    \"d_1937\",\n",
    "    \"d_1938\",\n",
    "    \"d_1939\",\n",
    "    \"d_1940\",\n",
    "    \"d_1941\"\n",
    "    ]\n",
    ")"
   ],
   "metadata": {
    "collapsed": false,
    "ExecuteTime": {
     "end_time": "2023-12-21T15:54:20.191293Z",
     "start_time": "2023-12-21T15:54:20.186363Z"
    }
   }
  },
  {
   "cell_type": "code",
   "execution_count": 19,
   "outputs": [
    {
     "name": "stderr",
     "output_type": "stream",
     "text": [
      "/var/folders/hm/nggskng137sdxm84zxzpvj3m0000gn/T/ipykernel_8323/2646939808.py:1: UserWarning: Parsing dates in %d-%m-%Y format when dayfirst=False (the default) was specified. Pass `dayfirst=True` or specify a format to silence this warning.\n",
      "  sales_test[\"date\"] = sales_test.apply(lambda x: pd.to_datetime(f\"{x.day}-{x.month}-{x.year}\"), axis=1)\n"
     ]
    }
   ],
   "source": [
    "sales_test[\"date\"] = sales_test.apply(lambda x: pd.to_datetime(f\"{x.day}-{x.month}-{x.year}\"), axis=1)"
   ],
   "metadata": {
    "collapsed": false,
    "ExecuteTime": {
     "end_time": "2023-12-21T15:54:28.539175Z",
     "start_time": "2023-12-21T15:54:20.193649Z"
    }
   }
  },
  {
   "cell_type": "code",
   "execution_count": 20,
   "outputs": [],
   "source": [
    "sales_test_copy = sales_test[['date', 'item_id', 'Predictions']].copy()"
   ],
   "metadata": {
    "collapsed": false,
    "ExecuteTime": {
     "end_time": "2023-12-21T15:54:28.543843Z",
     "start_time": "2023-12-21T15:54:28.539882Z"
    }
   }
  },
  {
   "cell_type": "code",
   "execution_count": 21,
   "outputs": [],
   "source": [
    "sales_pivoted =  sales_test.pivot_table('Predictions', ['item_id'], 'date')"
   ],
   "metadata": {
    "collapsed": false,
    "ExecuteTime": {
     "end_time": "2023-12-21T15:54:28.574022Z",
     "start_time": "2023-12-21T15:54:28.545213Z"
    }
   }
  },
  {
   "cell_type": "code",
   "execution_count": 22,
   "outputs": [],
   "source": [
    "sales_pivoted.columns = cols"
   ],
   "metadata": {
    "collapsed": false,
    "ExecuteTime": {
     "end_time": "2023-12-21T15:54:28.576905Z",
     "start_time": "2023-12-21T15:54:28.570673Z"
    }
   }
  },
  {
   "cell_type": "code",
   "execution_count": 23,
   "outputs": [],
   "source": [
    "sales_pivoted.reset_index().to_csv(\"LightGBM_REGRESSION_PREDICTIONS.csv\")"
   ],
   "metadata": {
    "collapsed": false,
    "ExecuteTime": {
     "end_time": "2023-12-21T15:54:28.601562Z",
     "start_time": "2023-12-21T15:54:28.577148Z"
    }
   }
  },
  {
   "cell_type": "code",
   "execution_count": 23,
   "outputs": [],
   "source": [],
   "metadata": {
    "collapsed": false,
    "ExecuteTime": {
     "end_time": "2023-12-21T15:54:28.608918Z",
     "start_time": "2023-12-21T15:54:28.601336Z"
    }
   }
  }
 ],
 "metadata": {
  "kernelspec": {
   "display_name": "Python 3",
   "language": "python",
   "name": "python3"
  },
  "language_info": {
   "codemirror_mode": {
    "name": "ipython",
    "version": 2
   },
   "file_extension": ".py",
   "mimetype": "text/x-python",
   "name": "python",
   "nbconvert_exporter": "python",
   "pygments_lexer": "ipython2",
   "version": "2.7.6"
  }
 },
 "nbformat": 4,
 "nbformat_minor": 0
}
