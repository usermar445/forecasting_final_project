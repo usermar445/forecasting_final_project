{
 "cells": [
  {
   "cell_type": "code",
   "execution_count": 1,
   "metadata": {
    "collapsed": true,
    "ExecuteTime": {
     "end_time": "2023-12-21T15:39:43.487085Z",
     "start_time": "2023-12-21T15:39:42.234215Z"
    }
   },
   "outputs": [],
   "source": [
    "import lightgbm as lgb\n",
    "import numpy as np\n",
    "import joblib\n",
    "import pandas as pd\n",
    "from sklearn.model_selection import TimeSeriesSplit\n",
    "from sklearn.metrics import mean_squared_error, mean_absolute_error, mean_absolute_percentage_error, mean_poisson_deviance"
   ]
  },
  {
   "cell_type": "code",
   "execution_count": 2,
   "outputs": [],
   "source": [
    "ORDINAL_COLUMNS = [\n",
    "    \"item_id\",\n",
    "    \"is_weekday\",\n",
    "    \"is_weekend\",\n",
    "    \"is_holiday\",\n",
    "    \"price_category\",\n",
    "    \"7dl_price_category\",\n",
    "    \"event_name_1\",\n",
    "    \"event_type_1\",\n",
    "    \"event_name_2\",\n",
    "    \"event_type_2\",\n",
    "    \"7dl_event_name_1\",\n",
    "    \"7dl_event_name_2\",\n",
    "    \"7dl_event_type_1\",\n",
    "    \"7dl_event_type_2\",\n",
    "    \"snap_TX\"\n",
    "]"
   ],
   "metadata": {
    "collapsed": false,
    "ExecuteTime": {
     "end_time": "2023-12-21T15:39:43.493141Z",
     "start_time": "2023-12-21T15:39:43.490227Z"
    }
   }
  },
  {
   "cell_type": "code",
   "execution_count": 3,
   "outputs": [],
   "source": [
    "COLUMNS_TO_DROP = [\"wm_yr_wk\", \"date\", \"weekday\"]"
   ],
   "metadata": {
    "collapsed": false,
    "ExecuteTime": {
     "end_time": "2023-12-21T15:39:43.497307Z",
     "start_time": "2023-12-21T15:39:43.494137Z"
    }
   }
  },
  {
   "cell_type": "code",
   "execution_count": 4,
   "outputs": [],
   "source": [
    "n_splits = 5\n",
    "tscv = TimeSeriesSplit(n_splits=n_splits)"
   ],
   "metadata": {
    "collapsed": false,
    "ExecuteTime": {
     "end_time": "2023-12-21T15:39:43.501648Z",
     "start_time": "2023-12-21T15:39:43.498060Z"
    }
   }
  },
  {
   "cell_type": "code",
   "execution_count": 5,
   "outputs": [],
   "source": [
    "params = {\n",
    "    'objective': 'poisson',\n",
    "    'metric': 'poisson',\n",
    "    'boosting_type': 'gbdt',\n",
    "    'num_leaves':  120,\n",
    "    'learning_rate': 0.3,\n",
    "    'feature_fraction': 0.9\n",
    "}"
   ],
   "metadata": {
    "collapsed": false,
    "ExecuteTime": {
     "end_time": "2023-12-21T15:39:43.512881Z",
     "start_time": "2023-12-21T15:39:43.504208Z"
    }
   }
  },
  {
   "cell_type": "code",
   "execution_count": 6,
   "outputs": [],
   "source": [
    "sales_train = pd.read_pickle(\"../data/fulling_connected_feature_eng_train_data.pkl\")\n",
    "sales_test = pd.read_pickle(\"../data/fulling_connected_feature_eng_test_data.pkl\")"
   ],
   "metadata": {
    "collapsed": false,
    "ExecuteTime": {
     "end_time": "2023-12-21T15:39:44.087057Z",
     "start_time": "2023-12-21T15:39:43.508655Z"
    }
   }
  },
  {
   "cell_type": "code",
   "execution_count": 7,
   "outputs": [],
   "source": [
    "sales_train = sales_train.drop(COLUMNS_TO_DROP, axis=1)\n",
    "sales_test = sales_test.drop(COLUMNS_TO_DROP, axis=1)"
   ],
   "metadata": {
    "collapsed": false,
    "ExecuteTime": {
     "end_time": "2023-12-21T15:39:44.385845Z",
     "start_time": "2023-12-21T15:39:44.201893Z"
    }
   }
  },
  {
   "cell_type": "code",
   "execution_count": 8,
   "outputs": [],
   "source": [
    "sales_train[ORDINAL_COLUMNS] = sales_train[ORDINAL_COLUMNS].astype(\"category\")\n",
    "sales_test[ORDINAL_COLUMNS] = sales_test[ORDINAL_COLUMNS].astype(\"category\")"
   ],
   "metadata": {
    "collapsed": false,
    "ExecuteTime": {
     "end_time": "2023-12-21T15:39:45.285197Z",
     "start_time": "2023-12-21T15:39:44.388322Z"
    }
   }
  },
  {
   "cell_type": "code",
   "execution_count": 9,
   "outputs": [],
   "source": [
    "outcome_col = \"sales_amount\"\n",
    "predictor_cols = [col for col in sales_train.columns if col !=  outcome_col]\n",
    "train_predictors = sales_train[predictor_cols]\n",
    "train_outcome = sales_train[outcome_col]\n",
    "test_predictors = sales_test[predictor_cols]\n",
    "test_outcome = sales_test[outcome_col]"
   ],
   "metadata": {
    "collapsed": false,
    "ExecuteTime": {
     "end_time": "2023-12-21T15:39:45.386413Z",
     "start_time": "2023-12-21T15:39:45.328470Z"
    }
   }
  },
  {
   "cell_type": "code",
   "execution_count": 10,
   "outputs": [],
   "source": [
    "lgb_train = lgb.Dataset(train_predictors, label=train_outcome, categorical_feature=ORDINAL_COLUMNS, free_raw_data = False)"
   ],
   "metadata": {
    "collapsed": false,
    "ExecuteTime": {
     "end_time": "2023-12-21T15:39:45.389534Z",
     "start_time": "2023-12-21T15:39:45.384964Z"
    }
   }
  },
  {
   "cell_type": "code",
   "execution_count": 11,
   "outputs": [
    {
     "name": "stdout",
     "output_type": "stream",
     "text": [
      "[LightGBM] [Warning] Categorical features with more bins than the configured maximum bin number found.\n",
      "[LightGBM] [Warning] For categorical features, max_bin and max_bin_by_feature may be ignored with a large number of categories.\n",
      "[LightGBM] [Info] Auto-choosing col-wise multi-threading, the overhead of testing was 0.027530 seconds.\n",
      "You can set `force_col_wise=true` to remove the overhead.\n",
      "[LightGBM] [Info] Total Bins 2622\n",
      "[LightGBM] [Info] Number of data points in the train set: 262404, number of used features: 29\n",
      "[LightGBM] [Info] Auto-choosing row-wise multi-threading, the overhead of testing was 0.017893 seconds.\n",
      "You can set `force_row_wise=true` to remove the overhead.\n",
      "And if memory is not enough, you can set `force_col_wise=true`.\n",
      "[LightGBM] [Info] Total Bins 2622\n",
      "[LightGBM] [Info] Number of data points in the train set: 524803, number of used features: 29\n",
      "[LightGBM] [Info] Auto-choosing row-wise multi-threading, the overhead of testing was 0.032241 seconds.\n",
      "You can set `force_row_wise=true` to remove the overhead.\n",
      "And if memory is not enough, you can set `force_col_wise=true`.\n",
      "[LightGBM] [Info] Total Bins 2622\n",
      "[LightGBM] [Info] Number of data points in the train set: 787202, number of used features: 29\n",
      "[LightGBM] [Info] Auto-choosing row-wise multi-threading, the overhead of testing was 0.039419 seconds.\n",
      "You can set `force_row_wise=true` to remove the overhead.\n",
      "And if memory is not enough, you can set `force_col_wise=true`.\n",
      "[LightGBM] [Info] Total Bins 2622\n",
      "[LightGBM] [Info] Number of data points in the train set: 1049601, number of used features: 29\n",
      "[LightGBM] [Info] Auto-choosing row-wise multi-threading, the overhead of testing was 0.048969 seconds.\n",
      "You can set `force_row_wise=true` to remove the overhead.\n",
      "And if memory is not enough, you can set `force_col_wise=true`.\n",
      "[LightGBM] [Info] Total Bins 2622\n",
      "[LightGBM] [Info] Number of data points in the train set: 1312000, number of used features: 29\n",
      "[LightGBM] [Info] Start training from score 0.700950\n",
      "[LightGBM] [Info] Start training from score 0.614085\n",
      "[LightGBM] [Info] Start training from score 0.600920\n",
      "[LightGBM] [Info] Start training from score 0.576801\n",
      "[LightGBM] [Info] Start training from score 0.628218\n"
     ]
    }
   ],
   "source": [
    "cv_results = lgb.cv(\n",
    "    params,\n",
    "    lgb_train,\n",
    "    num_boost_round=1000,\n",
    "    folds=tscv.split(train_predictors),\n",
    ")"
   ],
   "metadata": {
    "collapsed": false,
    "ExecuteTime": {
     "end_time": "2023-12-21T15:41:20.878839Z",
     "start_time": "2023-12-21T15:39:45.389191Z"
    }
   }
  },
  {
   "cell_type": "code",
   "execution_count": 12,
   "outputs": [
    {
     "name": "stdout",
     "output_type": "stream",
     "text": [
      "[LightGBM] [Info] Auto-choosing row-wise multi-threading, the overhead of testing was 0.066645 seconds.\n",
      "You can set `force_row_wise=true` to remove the overhead.\n",
      "And if memory is not enough, you can set `force_col_wise=true`.\n",
      "[LightGBM] [Info] Total Bins 2622\n",
      "[LightGBM] [Info] Number of data points in the train set: 1574399, number of used features: 29\n",
      "[LightGBM] [Info] Start training from score 0.643890\n"
     ]
    }
   ],
   "source": [
    "best_num_boost_round = len(cv_results[\"valid poisson-mean\"])\n",
    "final_model = lgb.train(params, lgb_train, num_boost_round=best_num_boost_round)"
   ],
   "metadata": {
    "collapsed": false,
    "ExecuteTime": {
     "end_time": "2023-12-21T15:41:46.989766Z",
     "start_time": "2023-12-21T15:41:20.880646Z"
    }
   }
  },
  {
   "cell_type": "code",
   "execution_count": 13,
   "outputs": [
    {
     "name": "stdout",
     "output_type": "stream",
     "text": [
      "MAE error was: 0.886675195400527\n",
      "MSE error was: 3.8740513912186585\n",
      "RMSE error was: 1.9682610068836548\n",
      "MAPE error was: 1090382808285499.2\n"
     ]
    }
   ],
   "source": [
    "train_predictions = final_model.predict(train_predictors)\n",
    "mae_error = mean_absolute_error(train_outcome, train_predictions)\n",
    "mse_error = mean_squared_error(train_outcome, train_predictions)\n",
    "rmse_error = mean_squared_error(train_outcome, train_predictions, squared=False)\n",
    "mape_error = mean_absolute_percentage_error(train_outcome, train_predictions)\n",
    "print(f\"MAE error was: {mae_error}\")\n",
    "print(f\"MSE error was: {mse_error}\")\n",
    "print(f\"RMSE error was: {rmse_error}\")\n",
    "print(f\"MAPE error was: {mape_error}\")"
   ],
   "metadata": {
    "collapsed": false,
    "ExecuteTime": {
     "end_time": "2023-12-21T15:42:03.153288Z",
     "start_time": "2023-12-21T15:41:46.994431Z"
    }
   }
  },
  {
   "cell_type": "code",
   "execution_count": 14,
   "outputs": [
    {
     "name": "stderr",
     "output_type": "stream",
     "text": [
      "/Users/mladenrm/.local/share/virtualenvs/afcs_assignments-DYfdduJW/lib/python3.11/site-packages/lightgbm/basic.py:693: SettingWithCopyWarning: \n",
      "A value is trying to be set on a copy of a slice from a DataFrame.\n",
      "Try using .loc[row_indexer,col_indexer] = value instead\n",
      "\n",
      "See the caveats in the documentation: https://pandas.pydata.org/pandas-docs/stable/user_guide/indexing.html#returning-a-view-versus-a-copy\n",
      "  data[col] = data[col].cat.set_categories(category)\n"
     ]
    },
    {
     "name": "stdout",
     "output_type": "stream",
     "text": [
      "MAE error was: 1.3416073598333622\n",
      "MSE error was: 9.369553896892901\n",
      "RMSE error was: 3.060972704369136\n",
      "MAPE error was: 1201337741253534.0\n"
     ]
    }
   ],
   "source": [
    "test_predictions = np.round(final_model.predict(test_predictors))\n",
    "mae_error = mean_absolute_error(test_outcome, test_predictions)\n",
    "mse_error = mean_squared_error(test_outcome, test_predictions)\n",
    "rmse_error = mean_squared_error(test_outcome, test_predictions, squared=False)\n",
    "mape_error = mean_absolute_percentage_error(test_outcome, test_predictions)\n",
    "print(f\"MAE error was: {mae_error}\")\n",
    "print(f\"MSE error was: {mse_error}\")\n",
    "print(f\"RMSE error was: {rmse_error}\")\n",
    "print(f\"MAPE error was: {mape_error}\")"
   ],
   "metadata": {
    "collapsed": false,
    "ExecuteTime": {
     "end_time": "2023-12-21T15:42:03.462498Z",
     "start_time": "2023-12-21T15:42:03.161643Z"
    }
   }
  },
  {
   "cell_type": "code",
   "execution_count": 15,
   "outputs": [
    {
     "data": {
      "text/plain": "['lgbm_poisson_model.pkl']"
     },
     "execution_count": 15,
     "metadata": {},
     "output_type": "execute_result"
    }
   ],
   "source": [
    "joblib.dump(final_model, 'lgbm_poisson_model.pkl')"
   ],
   "metadata": {
    "collapsed": false,
    "ExecuteTime": {
     "end_time": "2023-12-21T15:42:03.646194Z",
     "start_time": "2023-12-21T15:42:03.459209Z"
    }
   }
  },
  {
   "cell_type": "markdown",
   "source": [
    "### Reloading Model to ensure saved correctly"
   ],
   "metadata": {
    "collapsed": false
   }
  },
  {
   "cell_type": "code",
   "execution_count": 16,
   "outputs": [
    {
     "name": "stdout",
     "output_type": "stream",
     "text": [
      "MAE error was: 1.3869062745761567\n",
      "MSE error was: 9.294269321792086\n",
      "RMSE error was: 3.0486504099014184\n",
      "MAPE error was: 1376479609294375.5\n",
      "MPD error was: 2.0205759896722393\n"
     ]
    }
   ],
   "source": [
    "model = joblib.load('lgbm_poisson_model.pkl')\n",
    "test_predictions = model.predict(test_predictors)\n",
    "mae_error = mean_absolute_error(test_outcome, test_predictions)\n",
    "mse_error = mean_squared_error(test_outcome, test_predictions)\n",
    "rmse_error = mean_squared_error(test_outcome, test_predictions, squared=False)\n",
    "mape_error = mean_absolute_percentage_error(test_outcome, test_predictions)\n",
    "mpd_error = mean_poisson_deviance(test_outcome, test_predictions)\n",
    "print(f\"MAE error was: {mae_error}\")\n",
    "print(f\"MSE error was: {mse_error}\")\n",
    "print(f\"RMSE error was: {rmse_error}\")\n",
    "print(f\"MAPE error was: {mape_error}\")\n",
    "print(f\"MPD error was: {mpd_error}\")"
   ],
   "metadata": {
    "collapsed": false,
    "ExecuteTime": {
     "end_time": "2023-12-21T15:42:03.955493Z",
     "start_time": "2023-12-21T15:42:03.649290Z"
    }
   }
  },
  {
   "cell_type": "code",
   "execution_count": 17,
   "outputs": [],
   "source": [
    "sales_test[\"Predictions\"] = np.round(test_predictions)"
   ],
   "metadata": {
    "collapsed": false,
    "ExecuteTime": {
     "end_time": "2023-12-21T15:42:03.962456Z",
     "start_time": "2023-12-21T15:42:03.958427Z"
    }
   }
  },
  {
   "cell_type": "code",
   "execution_count": 41,
   "outputs": [],
   "source": [
    "cols = pd.Series(\n",
    "    [\n",
    "    \"d_1914\",\n",
    "    \"d_1915\",\n",
    "    \"d_1916\",\n",
    "    \"d_1917\",\n",
    "    \"d_1918\",\n",
    "    \"d_1919\",\n",
    "    \"d_1920\",\n",
    "    \"d_1921\",\n",
    "    \"d_1922\",\n",
    "    \"d_1923\",\n",
    "    \"d_1924\",\n",
    "    \"d_1925\",\n",
    "    \"d_1926\",\n",
    "    \"d_1927\",\n",
    "    \"d_1928\",\n",
    "    \"d_1929\",\n",
    "    \"d_1930\",\n",
    "    \"d_1931\",\n",
    "    \"d_1932\",\n",
    "    \"d_1933\",\n",
    "    \"d_1934\",\n",
    "    \"d_1935\",\n",
    "    \"d_1936\",\n",
    "    \"d_1937\",\n",
    "    \"d_1938\",\n",
    "    \"d_1939\",\n",
    "    \"d_1940\",\n",
    "    \"d_1941\"\n",
    "    ]\n",
    ")"
   ],
   "metadata": {
    "collapsed": false,
    "ExecuteTime": {
     "end_time": "2023-12-21T15:50:24.447500Z",
     "start_time": "2023-12-21T15:50:24.438347Z"
    }
   }
  },
  {
   "cell_type": "code",
   "execution_count": 24,
   "outputs": [
    {
     "name": "stderr",
     "output_type": "stream",
     "text": [
      "/var/folders/hm/nggskng137sdxm84zxzpvj3m0000gn/T/ipykernel_8103/2646939808.py:1: UserWarning: Parsing dates in %d-%m-%Y format when dayfirst=False (the default) was specified. Pass `dayfirst=True` or specify a format to silence this warning.\n",
      "  sales_test[\"date\"] = sales_test.apply(lambda x: pd.to_datetime(f\"{x.day}-{x.month}-{x.year}\"), axis=1)\n"
     ]
    }
   ],
   "source": [
    "sales_test[\"date\"] = sales_test.apply(lambda x: pd.to_datetime(f\"{x.day}-{x.month}-{x.year}\"), axis=1)"
   ],
   "metadata": {
    "collapsed": false,
    "ExecuteTime": {
     "end_time": "2023-12-21T15:44:17.972808Z",
     "start_time": "2023-12-21T15:44:09.874864Z"
    }
   }
  },
  {
   "cell_type": "code",
   "execution_count": 26,
   "outputs": [],
   "source": [
    "sales_test_copy = sales_test[['date', 'item_id', 'Predictions']].copy()"
   ],
   "metadata": {
    "collapsed": false,
    "ExecuteTime": {
     "end_time": "2023-12-21T15:46:08.757915Z",
     "start_time": "2023-12-21T15:46:08.744284Z"
    }
   }
  },
  {
   "cell_type": "code",
   "execution_count": 29,
   "outputs": [],
   "source": [
    "sales_pivoted =  sales_test.pivot_table('Predictions', ['item_id'], 'date')"
   ],
   "metadata": {
    "collapsed": false,
    "ExecuteTime": {
     "end_time": "2023-12-21T15:47:31.362304Z",
     "start_time": "2023-12-21T15:47:31.335179Z"
    }
   }
  },
  {
   "cell_type": "code",
   "execution_count": 42,
   "outputs": [],
   "source": [
    "sales_pivoted.columns = cols"
   ],
   "metadata": {
    "collapsed": false,
    "ExecuteTime": {
     "end_time": "2023-12-21T15:50:25.788786Z",
     "start_time": "2023-12-21T15:50:25.780422Z"
    }
   }
  },
  {
   "cell_type": "code",
   "execution_count": 46,
   "outputs": [],
   "source": [
    "sales_pivoted.reset_index().to_csv(\"LightGBM_POISSION_PREDICTIONS.csv\")"
   ],
   "metadata": {
    "collapsed": false,
    "ExecuteTime": {
     "end_time": "2023-12-21T15:51:08.053732Z",
     "start_time": "2023-12-21T15:51:08.029594Z"
    }
   }
  },
  {
   "cell_type": "code",
   "execution_count": null,
   "outputs": [],
   "source": [],
   "metadata": {
    "collapsed": false
   }
  }
 ],
 "metadata": {
  "kernelspec": {
   "display_name": "Python 3",
   "language": "python",
   "name": "python3"
  },
  "language_info": {
   "codemirror_mode": {
    "name": "ipython",
    "version": 2
   },
   "file_extension": ".py",
   "mimetype": "text/x-python",
   "name": "python",
   "nbconvert_exporter": "python",
   "pygments_lexer": "ipython2",
   "version": "2.7.6"
  }
 },
 "nbformat": 4,
 "nbformat_minor": 0
}
