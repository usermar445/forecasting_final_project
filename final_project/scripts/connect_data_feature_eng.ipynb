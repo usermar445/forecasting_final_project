{
 "cells": [
  {
   "cell_type": "code",
   "execution_count": 1,
   "metadata": {
    "collapsed": true,
    "ExecuteTime": {
     "end_time": "2023-12-21T15:39:02.946426Z",
     "start_time": "2023-12-21T15:39:02.782974Z"
    }
   },
   "outputs": [],
   "source": [
    "ON_COLAB = False\n",
    "if ON_COLAB:\n",
    "    from google.colab import drive\n",
    "    drive.mount('/content/drive')"
   ]
  },
  {
   "cell_type": "code",
   "execution_count": 2,
   "outputs": [],
   "source": [
    "import pandas as pd\n",
    "import numpy as np"
   ],
   "metadata": {
    "collapsed": false,
    "ExecuteTime": {
     "end_time": "2023-12-21T15:39:03.163406Z",
     "start_time": "2023-12-21T15:39:02.788072Z"
    }
   }
  },
  {
   "cell_type": "code",
   "execution_count": 3,
   "outputs": [],
   "source": [
    "sales_train = pd.read_csv(\"../data/sales_train_validation_afcs2023.csv\")\n",
    "sales_test = pd.read_csv(\"../data/sales_test_validation_afcs2022.csv\")\n",
    "prices = pd.read_csv(\"../data/sell_prices_afcs2023.csv\")\n",
    "calendar = pd.read_csv(\"../data/calendar_afcs2023.csv\", parse_dates=[\"date\"])"
   ],
   "metadata": {
    "collapsed": false,
    "ExecuteTime": {
     "end_time": "2023-12-21T15:39:03.395713Z",
     "start_time": "2023-12-21T15:39:03.164097Z"
    }
   }
  },
  {
   "cell_type": "code",
   "execution_count": 4,
   "outputs": [],
   "source": [
    "date_range = pd.Series(pd.date_range(start=\"2011-01-29\", end=\"2016-06-19\", freq='D')).dt.strftime('%Y-%m-%d').to_list()\n",
    "date_range.insert(0, \"id\")\n",
    "sales_train.columns = date_range[:len(sales_train.columns)]\n",
    "sales_train[['item_id', \"Loc1\", \"Loc2\", \"Type\"]] = sales_train.id.str.rsplit(\"_\", n=3, expand=True)\n",
    "sales_train = sales_train.drop(\"id\", axis=1)\n",
    "sales_train = sales_train.melt(id_vars=['item_id', \"Loc1\", \"Loc2\", \"Type\"], var_name=\"date\", value_name=\"sales_amount\")\n",
    "sales_train[\"date\"] = pd.to_datetime(sales_train[\"date\"])"
   ],
   "metadata": {
    "collapsed": false,
    "ExecuteTime": {
     "end_time": "2023-12-21T15:39:03.872349Z",
     "start_time": "2023-12-21T15:39:03.398746Z"
    }
   }
  },
  {
   "cell_type": "code",
   "execution_count": 5,
   "outputs": [],
   "source": [
    "date_range = pd.Series(pd.date_range(start=\"2016-04-25\", end=\"2016-06-19\", freq='D')).dt.strftime('%Y-%m-%d').to_list()\n",
    "date_range.insert(0, \"id\")\n",
    "sales_test.columns = date_range[:len(sales_test.columns)]\n",
    "sales_test[['item_id', \"Loc1\", \"Loc2\", \"Type\"]] = sales_test.id.str.rsplit(\"_\", n=3, expand=True)\n",
    "sales_test = sales_test.drop(\"id\", axis=1)\n",
    "sales_test = sales_test.melt(id_vars=['item_id', \"Loc1\", \"Loc2\", \"Type\"], var_name=\"date\", value_name=\"sales_amount\")\n",
    "sales_test[\"date\"] = pd.to_datetime(sales_test[\"date\"])"
   ],
   "metadata": {
    "collapsed": false,
    "ExecuteTime": {
     "end_time": "2023-12-21T15:39:03.899334Z",
     "start_time": "2023-12-21T15:39:03.882419Z"
    }
   }
  },
  {
   "cell_type": "code",
   "execution_count": 6,
   "outputs": [],
   "source": [
    "sales_train = pd.merge(sales_train, calendar, on='date')\n",
    "sales_train = sales_train.drop(columns=['Loc1', 'Loc2', \"Type\"])\n",
    "sales_train = pd.merge(sales_train, prices, on=['wm_yr_wk', 'item_id'],how ='left')\n",
    "sales_train = sales_train.drop('store_id',axis=1)"
   ],
   "metadata": {
    "collapsed": false,
    "ExecuteTime": {
     "end_time": "2023-12-21T15:39:05.195065Z",
     "start_time": "2023-12-21T15:39:03.896498Z"
    }
   }
  },
  {
   "cell_type": "code",
   "execution_count": 7,
   "outputs": [],
   "source": [
    "sales_test = pd.merge(sales_test, calendar, on='date')\n",
    "sales_test = sales_test.drop(columns=['Loc1', 'Loc2', \"Type\"])\n",
    "sales_test = pd.merge(sales_test, prices, on=['wm_yr_wk', 'item_id'],how ='left')\n",
    "sales_test = sales_test.drop('store_id',axis=1)"
   ],
   "metadata": {
    "collapsed": false,
    "ExecuteTime": {
     "end_time": "2023-12-21T15:39:05.246791Z",
     "start_time": "2023-12-21T15:39:05.197175Z"
    }
   }
  },
  {
   "cell_type": "markdown",
   "source": [
    "### Items were added at different times"
   ],
   "metadata": {
    "collapsed": false
   }
  },
  {
   "cell_type": "code",
   "execution_count": 8,
   "outputs": [],
   "source": [
    "date_added = sales_train[sales_train.sell_price.notna()].groupby(\"item_id\")[\"date\"].min().reset_index()"
   ],
   "metadata": {
    "collapsed": false,
    "ExecuteTime": {
     "end_time": "2023-12-21T15:39:05.428632Z",
     "start_time": "2023-12-21T15:39:05.247878Z"
    }
   }
  },
  {
   "cell_type": "code",
   "execution_count": 9,
   "outputs": [],
   "source": [
    "date_added[\"week_added\"] = 1\n",
    "sales_train = sales_train.merge(date_added, on=[\"item_id\", \"date\"], how='left')\n",
    "sales_train[\"week_added\"] = sales_train[\"week_added\"].fillna(0)"
   ],
   "metadata": {
    "collapsed": false,
    "ExecuteTime": {
     "end_time": "2023-12-21T15:39:05.800447Z",
     "start_time": "2023-12-21T15:39:05.429358Z"
    }
   }
  },
  {
   "cell_type": "code",
   "execution_count": 10,
   "outputs": [],
   "source": [
    "sales_test[\"week_added\"] = 0"
   ],
   "metadata": {
    "collapsed": false,
    "ExecuteTime": {
     "end_time": "2023-12-21T15:39:05.805523Z",
     "start_time": "2023-12-21T15:39:05.799889Z"
    }
   }
  },
  {
   "cell_type": "markdown",
   "source": [
    "### Cleaning categorical values to ease one-hot encoding later on"
   ],
   "metadata": {
    "collapsed": false
   }
  },
  {
   "cell_type": "code",
   "execution_count": 11,
   "outputs": [],
   "source": [
    "sales_train[['event_name_1', 'event_name_2']] = sales_train[['event_name_1', 'event_name_2']].fillna(\"No event\")\n",
    "sales_train[['event_type_1', 'event_type_2']] = sales_train[['event_type_1', 'event_type_2']].fillna(\"No event type\")\n",
    "sales_train = sales_train.sort_values([\"item_id\", \"date\"])"
   ],
   "metadata": {
    "collapsed": false,
    "ExecuteTime": {
     "end_time": "2023-12-21T15:39:06.989087Z",
     "start_time": "2023-12-21T15:39:05.807264Z"
    }
   }
  },
  {
   "cell_type": "code",
   "execution_count": 12,
   "outputs": [],
   "source": [
    "sales_test[['event_name_1', 'event_name_2']] = sales_test[['event_name_1', 'event_name_2']].fillna(\"No event\")\n",
    "sales_test[['event_type_1', 'event_type_2']] = sales_test[['event_type_1', 'event_type_2']].fillna(\"No event type\")\n",
    "sales_test = sales_test.sort_values([\"item_id\", \"date\"])"
   ],
   "metadata": {
    "collapsed": false,
    "ExecuteTime": {
     "end_time": "2023-12-21T15:39:07.015518Z",
     "start_time": "2023-12-21T15:39:06.992959Z"
    }
   }
  },
  {
   "cell_type": "markdown",
   "source": [
    "### Feature engineering on sales price"
   ],
   "metadata": {
    "collapsed": false
   }
  },
  {
   "cell_type": "markdown",
   "source": [
    "##### Creating Classification Of Price\n",
    "We begin by filling Null values for sales price if no items not added yet (do not have a price).\n"
   ],
   "metadata": {
    "collapsed": false
   }
  },
  {
   "cell_type": "code",
   "execution_count": 13,
   "outputs": [],
   "source": [
    "sales_train['sell_price'] = sales_train['sell_price'].fillna(0)\n",
    "quantiles = sales_train.sell_price.quantile([0, 0.25, 0.5, 0.75, 1]).to_list()\n",
    "sales_train[\"price_category\"] = pd.cut(sales_train[\"sell_price\"], quantiles, labels=[\"low\", \"mid-low\", \"mid-high\", \"high\"])\n",
    "sales_train.loc[sales_train[\"price_category\"].isnull(), \"price_category\"] = \"low\""
   ],
   "metadata": {
    "collapsed": false,
    "ExecuteTime": {
     "end_time": "2023-12-21T15:39:07.068409Z",
     "start_time": "2023-12-21T15:39:07.013427Z"
    }
   }
  },
  {
   "cell_type": "code",
   "execution_count": 14,
   "outputs": [],
   "source": [
    "sales_test['sell_price'] = sales_test['sell_price'].fillna(0)\n",
    "sales_test[\"price_category\"] = pd.cut(sales_test[\"sell_price\"], quantiles, labels=[\"low\", \"mid-low\", \"mid-high\", \"high\"])\n",
    "sales_test.loc[sales_test[\"price_category\"].isnull(), \"price_category\"] = \"low\""
   ],
   "metadata": {
    "collapsed": false,
    "ExecuteTime": {
     "end_time": "2023-12-21T15:39:07.079288Z",
     "start_time": "2023-12-21T15:39:07.074203Z"
    }
   }
  },
  {
   "cell_type": "markdown",
   "source": [
    "### Connecting TEST AND TRAIN DATA\n",
    "\n",
    "Previously not bound, since:\n",
    "1. We assume the items were added prior to the testing period\n",
    "2. We categorise sales category based on the quantiles of the train set, otherwise we will have a data leak from the test set."
   ],
   "metadata": {
    "collapsed": false
   }
  },
  {
   "cell_type": "code",
   "execution_count": 15,
   "outputs": [],
   "source": [
    "assert np.all(sales_test.columns == sales_train.columns)\n",
    "full_data = pd.concat([sales_train, sales_test])"
   ],
   "metadata": {
    "collapsed": false,
    "ExecuteTime": {
     "end_time": "2023-12-21T15:39:07.175770Z",
     "start_time": "2023-12-21T15:39:07.080726Z"
    }
   }
  },
  {
   "cell_type": "markdown",
   "source": [
    "#### Creating weekly shifted/ lagged values\n",
    "\n",
    "The assumption is the following:\n",
    "Since we are transposing $price_t$ to $price_{t+1}$, for $price_0$ for each product we need to backfill values for the first week, since these were shifted into the future."
   ],
   "metadata": {
    "collapsed": false
   }
  },
  {
   "cell_type": "code",
   "execution_count": 16,
   "outputs": [],
   "source": [
    "lagged_8_days = (\n",
    "    full_data\n",
    "    .set_index(\"date\")\n",
    "    .groupby(\"item_id\", as_index=False)[[\"sell_price\", \"price_category\", \"item_id\", \"sales_amount\", \"event_name_1\", \"event_name_2\", \"event_type_1\", \"event_type_2\"]]\n",
    "    .shift(periods=7)\n",
    "    .reset_index()\n",
    "    .bfill()\n",
    "    .rename(columns={\n",
    "        \"sell_price\": \"7dl_sell_price\",\n",
    "        \"price_category\": \"7dl_price_category\",\n",
    "        \"sales_amount\": \"7dl_sales_amount\",\n",
    "        \"event_name_1\": \"7dl_event_name_1\",\n",
    "        \"event_name_2\": \"7dl_event_name_2\",\n",
    "        \"event_type_1\": \"7dl_event_type_1\",\n",
    "        \"event_type_2\": \"7dl_event_type_2\"\n",
    "    })\n",
    ")\n",
    "\n",
    "full_data = full_data.merge(lagged_8_days, on=[\"date\", \"item_id\"])"
   ],
   "metadata": {
    "collapsed": false,
    "ExecuteTime": {
     "end_time": "2023-12-21T15:39:09.467137Z",
     "start_time": "2023-12-21T15:39:07.189551Z"
    }
   }
  },
  {
   "cell_type": "markdown",
   "source": [
    "### Adding Weekly, Monthly, Quaterly and Yearly Percent change in prices"
   ],
   "metadata": {
    "collapsed": false
   }
  },
  {
   "cell_type": "code",
   "execution_count": 17,
   "outputs": [],
   "source": [
    "weekly_changes_in_price = (\n",
    "    full_data\n",
    "    .groupby(['item_id', \"wm_yr_wk\"])['sell_price']\n",
    "    .mean()\n",
    "    .pct_change()\n",
    "    .reset_index()\n",
    "    .rename(columns={\"sell_price\": \"weekly_pct_change\"})\n",
    "    .fillna(0)\n",
    ")\n",
    "weekly_changes_in_price.loc[weekly_changes_in_price[\"weekly_pct_change\"] == np.inf, \"weekly_pct_change\"] = 0\n",
    "weekly_changes_in_price[\"weekly_pct_change\"] = weekly_changes_in_price[\"weekly_pct_change\"] * 100"
   ],
   "metadata": {
    "collapsed": false,
    "ExecuteTime": {
     "end_time": "2023-12-21T15:39:09.665645Z",
     "start_time": "2023-12-21T15:39:09.479516Z"
    }
   }
  },
  {
   "cell_type": "code",
   "execution_count": 18,
   "outputs": [],
   "source": [
    "monthly_changes_in_price = (\n",
    "    full_data\n",
    "    .set_index(\"date\")\n",
    "    .groupby(['item_id', pd.Grouper(freq=\"M\")])['sell_price']\n",
    "    .mean()\n",
    "    .pct_change()\n",
    "    .reset_index()\n",
    "    .rename(columns={\"sell_price\": \"monthly_pct_change\"})\n",
    "    .fillna(0)\n",
    ")\n",
    "monthly_changes_in_price.loc[monthly_changes_in_price[\"monthly_pct_change\"] == np.inf, \"monthly_pct_change\"] = 0\n",
    "monthly_changes_in_price[\"monthly_pct_change\"] = monthly_changes_in_price[\"monthly_pct_change\"] * 100"
   ],
   "metadata": {
    "collapsed": false,
    "ExecuteTime": {
     "end_time": "2023-12-21T15:39:11.940100Z",
     "start_time": "2023-12-21T15:39:09.667613Z"
    }
   }
  },
  {
   "cell_type": "code",
   "execution_count": 19,
   "outputs": [],
   "source": [
    "quaterly_changes_in_price = (\n",
    "    full_data\n",
    "    .set_index(\"date\")\n",
    "    .groupby(['item_id', pd.Grouper(freq=\"Q\")])['sell_price']\n",
    "    .mean()\n",
    "    .pct_change()\n",
    "    .reset_index()\n",
    "    .rename(columns={\"sell_price\": \"qrt_pct_change\"})\n",
    "    .fillna(0)\n",
    ")\n",
    "quaterly_changes_in_price.loc[quaterly_changes_in_price[\"qrt_pct_change\"] == np.inf, \"qrt_pct_change\"] = 0\n",
    "quaterly_changes_in_price[\"qrt_pct_change\"] = quaterly_changes_in_price[\"qrt_pct_change\"] * 100"
   ],
   "metadata": {
    "collapsed": false,
    "ExecuteTime": {
     "end_time": "2023-12-21T15:39:14.056188Z",
     "start_time": "2023-12-21T15:39:11.941718Z"
    }
   }
  },
  {
   "cell_type": "code",
   "execution_count": 20,
   "outputs": [],
   "source": [
    "yearly_changes_in_price = (\n",
    "    full_data\n",
    "    .set_index(\"date\")\n",
    "    .groupby(['item_id', pd.Grouper(freq=\"Y\")])['sell_price']\n",
    "    .mean()\n",
    "    .pct_change()\n",
    "    .reset_index()\n",
    "    .rename(columns={\"sell_price\": \"yearly_pct_change\"})\n",
    "    .fillna(0)\n",
    ")\n",
    "yearly_changes_in_price.loc[yearly_changes_in_price[\"yearly_pct_change\"] == np.inf, \"yearly_pct_change\"] = 0\n",
    "yearly_changes_in_price[\"yearly_pct_change\"] = yearly_changes_in_price[\"yearly_pct_change\"] * 100"
   ],
   "metadata": {
    "collapsed": false,
    "ExecuteTime": {
     "end_time": "2023-12-21T15:39:16.132915Z",
     "start_time": "2023-12-21T15:39:14.056732Z"
    }
   }
  },
  {
   "cell_type": "code",
   "execution_count": 21,
   "outputs": [],
   "source": [
    "full_data = full_data.merge(weekly_changes_in_price, on=[\"item_id\", \"wm_yr_wk\"])"
   ],
   "metadata": {
    "collapsed": false,
    "ExecuteTime": {
     "end_time": "2023-12-21T15:39:16.839241Z",
     "start_time": "2023-12-21T15:39:16.217048Z"
    }
   }
  },
  {
   "cell_type": "code",
   "execution_count": 22,
   "outputs": [],
   "source": [
    "full_data = full_data.merge(\n",
    "    monthly_changes_in_price,\n",
    "    left_on=[\n",
    "        \"item_id\",\n",
    "        full_data['date'].dt.to_period('M')\n",
    "    ],\n",
    "    right_on=[\n",
    "        \"item_id\",\n",
    "        monthly_changes_in_price['date'].dt.to_period('M')\n",
    "    ]\n",
    ").drop([\"date_y\", \"key_1\"], axis=1).rename(columns={\"date_x\":\"date\"})"
   ],
   "metadata": {
    "collapsed": false,
    "ExecuteTime": {
     "end_time": "2023-12-21T15:39:17.818794Z",
     "start_time": "2023-12-21T15:39:16.900450Z"
    }
   }
  },
  {
   "cell_type": "code",
   "execution_count": 23,
   "outputs": [],
   "source": [
    "full_data = full_data.merge(\n",
    "    quaterly_changes_in_price,\n",
    "    left_on=[\n",
    "        \"item_id\",\n",
    "        full_data['date'].dt.to_period('Q')\n",
    "    ],\n",
    "    right_on=[\n",
    "        \"item_id\",\n",
    "        quaterly_changes_in_price['date'].dt.to_period('Q')\n",
    "    ]\n",
    ").drop([\"date_y\", \"key_1\"], axis=1).rename(columns={\"date_x\":\"date\"})"
   ],
   "metadata": {
    "collapsed": false,
    "ExecuteTime": {
     "end_time": "2023-12-21T15:39:18.878321Z",
     "start_time": "2023-12-21T15:39:17.877898Z"
    }
   }
  },
  {
   "cell_type": "code",
   "execution_count": 24,
   "outputs": [],
   "source": [
    "full_data = full_data.merge(\n",
    "    yearly_changes_in_price,\n",
    "    left_on=[\n",
    "        \"item_id\",\n",
    "        full_data['date'].dt.to_period('Y')\n",
    "    ],\n",
    "    right_on=[\n",
    "        \"item_id\",\n",
    "        yearly_changes_in_price['date'].dt.to_period('Y')\n",
    "    ]\n",
    ").drop([\"date_y\", \"key_1\"], axis=1).rename(columns={\"date_x\":\"date\"})"
   ],
   "metadata": {
    "collapsed": false,
    "ExecuteTime": {
     "end_time": "2023-12-21T15:39:19.744828Z",
     "start_time": "2023-12-21T15:39:18.878989Z"
    }
   }
  },
  {
   "cell_type": "markdown",
   "source": [
    "### Adding Weekday, Weekend and Holiday Dummy Vars"
   ],
   "metadata": {
    "collapsed": false
   }
  },
  {
   "cell_type": "code",
   "execution_count": 25,
   "outputs": [],
   "source": [
    "full_data[\"is_weekday\"] = full_data[\"weekday\"].apply(lambda x: x not in [\"Saturday\",\"Sunday\"])"
   ],
   "metadata": {
    "collapsed": false,
    "ExecuteTime": {
     "end_time": "2023-12-21T15:39:20.001701Z",
     "start_time": "2023-12-21T15:39:19.745129Z"
    }
   }
  },
  {
   "cell_type": "code",
   "execution_count": 26,
   "outputs": [],
   "source": [
    "full_data[\"is_weekend\"] = full_data[\"weekday\"].apply(lambda x: x in [\"Saturday\",\"Sunday\"])"
   ],
   "metadata": {
    "collapsed": false,
    "ExecuteTime": {
     "end_time": "2023-12-21T15:39:20.262485Z",
     "start_time": "2023-12-21T15:39:20.002873Z"
    }
   }
  },
  {
   "cell_type": "markdown",
   "source": [
    "Here we can have either 0, 1 or 2 events together."
   ],
   "metadata": {
    "collapsed": false
   }
  },
  {
   "cell_type": "code",
   "execution_count": 27,
   "outputs": [],
   "source": [
    "full_data[\"is_holiday\"] = full_data.apply(\n",
    "    lambda x: sum(\n",
    "        [\n",
    "            int(x[\"event_name_1\"] != 'No event'),\n",
    "            int(x[\"event_name_2\"] != 'No event'),\n",
    "        ]\n",
    "    ), axis=1\n",
    ")\n"
   ],
   "metadata": {
    "collapsed": false,
    "ExecuteTime": {
     "end_time": "2023-12-21T15:39:34.696090Z",
     "start_time": "2023-12-21T15:39:20.473072Z"
    }
   }
  },
  {
   "cell_type": "markdown",
   "source": [
    "### Adding markers for traditional ML algorithms"
   ],
   "metadata": {
    "collapsed": false
   }
  },
  {
   "cell_type": "code",
   "execution_count": 28,
   "outputs": [],
   "source": [
    "full_data[\"day\"] = full_data[\"date\"].dt.day\n",
    "full_data[\"quarter\"] = full_data[\"date\"].dt.quarter\n",
    "full_data[\"month\"] = full_data[\"date\"].dt.month\n",
    "full_data[\"week\"] = full_data[\"date\"].dt.isocalendar().week"
   ],
   "metadata": {
    "collapsed": false,
    "ExecuteTime": {
     "end_time": "2023-12-21T15:39:34.926401Z",
     "start_time": "2023-12-21T15:39:34.697772Z"
    }
   }
  },
  {
   "cell_type": "code",
   "execution_count": 29,
   "outputs": [],
   "source": [
    "(\n",
    "    full_data\n",
    "    .query(\"`date` >= '2011-01-29' and `date` <= '2016-04-24'\")\n",
    "    .to_pickle(\"../data/fulling_connected_feature_eng_train_data.pkl\")\n",
    ")"
   ],
   "metadata": {
    "collapsed": false,
    "ExecuteTime": {
     "end_time": "2023-12-21T15:39:35.852817Z",
     "start_time": "2023-12-21T15:39:34.925918Z"
    }
   }
  },
  {
   "cell_type": "code",
   "execution_count": 30,
   "outputs": [],
   "source": [
    "(\n",
    "    full_data\n",
    "    .query(\"`date` >= '2016-04-25'\")\n",
    "    .to_pickle(\"../data/fulling_connected_feature_eng_test_data.pkl\")\n",
    ")"
   ],
   "metadata": {
    "collapsed": false,
    "ExecuteTime": {
     "end_time": "2023-12-21T15:39:35.891491Z",
     "start_time": "2023-12-21T15:39:35.853770Z"
    }
   }
  },
  {
   "cell_type": "code",
   "execution_count": 30,
   "outputs": [],
   "source": [],
   "metadata": {
    "collapsed": false,
    "ExecuteTime": {
     "end_time": "2023-12-21T15:39:35.896259Z",
     "start_time": "2023-12-21T15:39:35.892381Z"
    }
   }
  }
 ],
 "metadata": {
  "kernelspec": {
   "display_name": "Python 3",
   "language": "python",
   "name": "python3"
  },
  "language_info": {
   "codemirror_mode": {
    "name": "ipython",
    "version": 2
   },
   "file_extension": ".py",
   "mimetype": "text/x-python",
   "name": "python",
   "nbconvert_exporter": "python",
   "pygments_lexer": "ipython2",
   "version": "2.7.6"
  }
 },
 "nbformat": 4,
 "nbformat_minor": 0
}
