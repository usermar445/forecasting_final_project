{
 "nbformat": 4,
 "nbformat_minor": 0,
 "metadata": {
  "colab": {
   "provenance": [],
   "authorship_tag": "ABX9TyM5WYcCZD8OLvgvI14OJwDm",
   "include_colab_link": true
  },
  "kernelspec": {
   "name": "ir",
   "display_name": "R"
  },
  "language_info": {
   "name": "R"
  }
 },
 "cells": [
  {
   "cell_type": "markdown",
   "metadata": {
    "id": "view-in-github",
    "colab_type": "text"
   },
   "source": [
    "<a href=\"https://colab.research.google.com/github/usermar445/afcs_assignments/blob/main/final_repo/R/prophet_2.ipynb\" target=\"_parent\"><img src=\"https://colab.research.google.com/assets/colab-badge.svg\" alt=\"Open In Colab\"/></a>"
   ]
  },
  {
   "cell_type": "code",
   "execution_count": null,
   "metadata": {
    "colab": {
     "base_uri": "https://localhost:8080/",
     "height": 574
    },
    "id": "1Uy8X5yd6U5D",
    "outputId": "fe40ab68-ea24-4b18-c70e-de21d77384fe",
    "is_executing": true
   },
   "outputs": [],
   "source": [
    "#load packages\n",
    "install.packages(\"fpp3\")\n"
   ]
  },
  {
   "cell_type": "code",
   "source": [
    "install.packages(\"fable.prophet\")"
   ],
   "metadata": {
    "colab": {
     "base_uri": "https://localhost:8080/"
    },
    "id": "ee8kjV5284JS",
    "outputId": "e4a2e7b3-5d0f-438a-d66f-938ad71e3810"
   },
   "execution_count": 5,
   "outputs": [
    {
     "output_type": "stream",
     "name": "stderr",
     "text": [
      "Installing package into ‘/usr/local/lib/R/site-library’\n",
      "(as ‘lib’ is unspecified)\n",
      "\n"
     ]
    }
   ]
  },
  {
   "cell_type": "code",
   "source": [
    "library(fpp3)\n",
    "library(stringr)\n",
    "library(fable.prophet)\n"
   ],
   "metadata": {
    "colab": {
     "base_uri": "https://localhost:8080/"
    },
    "id": "YUu4GIYa83Ej",
    "outputId": "ae1529df-74eb-4495-a141-9bed0d4299e1"
   },
   "execution_count": 4,
   "outputs": [
    {
     "output_type": "stream",
     "name": "stderr",
     "text": [
      "Loading required package: Rcpp\n",
      "\n"
     ]
    }
   ]
  },
  {
   "cell_type": "code",
   "source": [
    "\n",
    "## ++++++++++++++++++ LOAD DATA ++++++++++++++++++++++++++++\n",
    "#load data\n",
    "#data_path <- \"../data/\"\n",
    "\n",
    "# train data\n",
    "df_sales_train <- read.csv(\"sales_train_validation_afcs2023.csv\")\n",
    "\n",
    "# test data\n",
    "sales_test <- read.csv(\"sales_test_validation_afcs2022.csv\")\n",
    "\n",
    "# calendar data\n",
    "calendar_df <- read.csv(\"calendar_afcs2023.csv\")\n",
    "\n",
    "# price data\n",
    "price_df <- read.csv(\"sell_prices_afcs2023.csv\")\n",
    "\n"
   ],
   "metadata": {
    "id": "-h8hrpna6oe_"
   },
   "execution_count": 7,
   "outputs": []
  },
  {
   "cell_type": "code",
   "source": [
    "## ++++++++++++++++++ PREPARE DATA SETS ++++++++++++++++++++++++++++\n",
    "\n",
    "# 1) Calendar data\n",
    "# convert to Date object\n",
    "calendar_df$Date <- as.Date(calendar_df$date, format = \"%m/%d/%Y\")\n",
    "\n",
    "# create id column to merge with sales data, everything else is disregarded\n",
    "calendar_df <- calendar_df %>% select(-date) %>% arrange(Date) %>% mutate(id_day = row_number(), day = paste(\"d_\", id_day, sep=\"\"))\n",
    "\n",
    "# save id mapping for maybe later use\n",
    "cal_ids <- calendar_df %>% select(Date, id_day, day)\n",
    "\n",
    "# dummy if weekend\n",
    "calendar_df <- calendar_df %>% mutate(is_weekend = if_else(wday<=2, 1,0))\n",
    "\n",
    "# day of month\n",
    "calendar_df <- calendar_df %>% mutate(day_of_month = day(Date))\n",
    "\n",
    "# dummy of is event (only event 1)\n",
    "calendar_df <- calendar_df %>%\n",
    "  mutate(event = if_else(!is.na(event_name_1), 1, 0))\n",
    "\n"
   ],
   "metadata": {
    "id": "JYIiX8OJ6vx8"
   },
   "execution_count": 8,
   "outputs": []
  },
  {
   "cell_type": "code",
   "source": [
    "# 2) Sales train data\n",
    "\n",
    "# Create id column in order for easier handling (product name is too annoying)\n",
    "df_sales_train <- df_sales_train %>% arrange(id) %>% mutate(product_id = row_number()) %>% select(id, product_id, everything())\n",
    "ids <- df_sales_train %>% select(product_id, id)\n",
    "\n",
    "# pivot to prepare to merge with data\n",
    "sales_pivot <- df_sales_train %>% pivot_longer(cols=starts_with(\"d_\"), names_to=\"Day\", values_to=\"Sales\") %>% rename(Product = id) %>% arrange(Day, Product)\n",
    "\n",
    "\n",
    "# 3) Merge sales with calendar data\n",
    "sales_train_ts <- sales_pivot %>%\n",
    "  left_join(calendar_df, by=join_by(Day==day)) %>%\n",
    "  as_tsibble(index=Date, key=product_id)\n"
   ],
   "metadata": {
    "id": "U3VH863u6xn4"
   },
   "execution_count": 9,
   "outputs": []
  },
  {
   "cell_type": "code",
   "source": [
    "\n",
    "\n",
    "# 4) Add price data\n",
    "sales_train_ts <- sales_train_ts %>%\n",
    "  mutate(extracted_id = str_extract(Product, \"FOODS_\\\\d+_\\\\d+\")) %>%\n",
    "  left_join(price_df, by=c(\"extracted_id\" = \"item_id\", \"wm_yr_wk\"=\"wm_yr_wk\"))\n",
    "\n",
    "# fill na price values with last price\n",
    "sales_train_ts <- sales_train_ts %>%\n",
    "  arrange(product_id, Date) %>%\n",
    "  fill(sell_price)\n",
    "\n",
    "\n",
    "# 5) select relevant columns\n",
    "sales_train <- sales_train_ts %>%\n",
    "  select(Date, product_id,  Sales, wday, month, snap_TX, is_weekend, day_of_month, event, sell_price)\n"
   ],
   "metadata": {
    "id": "3rKI0cVw60Os"
   },
   "execution_count": 10,
   "outputs": []
  },
  {
   "cell_type": "code",
   "source": [
    "\n",
    "\n",
    "# 6) test data + Generate new data\n",
    "# pivot to prepare to merge with data\n",
    "sales_test <- sales_test %>% arrange(id) %>% mutate(product_id = row_number()) %>% select(id, product_id, everything())\n",
    "sales_test_pivot <- sales_test %>% pivot_longer(cols=starts_with(\"d_\"), names_to=\"Day\", values_to=\"Sales\") %>% rename(Product = id) %>% arrange(Day, Product)\n",
    "\n",
    "# Merge data and create tsibble\n",
    "sales_test_ts <- sales_test_pivot %>%\n",
    "  left_join(calendar_df, by=c(\"Day\" = \"day\")) %>%\n",
    "  select(Date, product_id, Sales) %>%\n",
    "  as_tsibble(index=Date, key=product_id)\n",
    "\n",
    "# dates of test data\n",
    "dates_test_data <- sales_test_ts %>% distinct(Date)\n",
    "\n",
    "# create \"empty\" new data for test horizon\n",
    "new_data <- new_data(sales_train, 28)\n",
    "\n",
    "# extract calendar information for forcast horizon\n",
    "cal_new <- calendar_df %>%\n",
    "  filter(Date %in% dates_test_data$Date) %>%\n",
    "  select(Date, wday, snap_TX, is_weekend, day_of_month, event)\n",
    "\n",
    "# get last price before forecast\n",
    "last_price <- sales_train %>%\n",
    "  as_tibble() %>%\n",
    "  group_by(product_id) %>% slice(n()) %>%\n",
    "  select(product_id, sell_price)\n",
    "\n",
    "# generate new data for forecast horizon\n",
    "new_data <- new_data %>%\n",
    "  left_join(cal_new, by=\"Date\") %>%\n",
    "  left_join(last_price, by=\"product_id\")\n",
    "\n"
   ],
   "metadata": {
    "id": "niqPrdY_61vs"
   },
   "execution_count": 11,
   "outputs": []
  },
  {
   "cell_type": "markdown",
   "source": [
    "# Forecasting\n"
   ],
   "metadata": {
    "id": "kvJmG9D3CCDt"
   }
  },
  {
   "cell_type": "code",
   "source": [
    "holidays <- calendar_df %>% select(Date, event_name_1) %>% rename(ds=Date, holiday=event_name_1) %>% filter(!is.na(holiday))"
   ],
   "metadata": {
    "id": "pcHgkV3YL6is"
   },
   "execution_count": 26,
   "outputs": []
  },
  {
   "cell_type": "code",
   "source": [
    "fit_prophet <- sales_train %>%\n",
    "  model(prophet = prophet(Sales ~ holiday(holidays)))"
   ],
   "metadata": {
    "id": "02sp10jSCDaq"
   },
   "execution_count": 28,
   "outputs": []
  },
  {
   "cell_type": "code",
   "source": [
    "fc_prophet <- fit_prophet %>% forecast(h=28)"
   ],
   "metadata": {
    "id": "rqReldzfCHvP"
   },
   "execution_count": 29,
   "outputs": []
  },
  {
   "cell_type": "code",
   "source": [
    "## ++++++++++++++++++ Evaluate ++++++++++\n",
    "accuracy_prophet <- fc_prophet %>% accuracy(sales_test_ts, measures = list(rmse = RMSE))\n",
    "rmse_prophet <- accuracy_prophet %>% group_by(`.model`) %>% summarise(mean(rmse))\n",
    "print(rmse_prophet)"
   ],
   "metadata": {
    "colab": {
     "base_uri": "https://localhost:8080/"
    },
    "id": "HXpyOtPuQuR-",
    "outputId": "6cee0c78-0882-44b3-a014-c508e014302c"
   },
   "execution_count": 31,
   "outputs": [
    {
     "output_type": "stream",
     "name": "stdout",
     "text": [
      "\u001B[90m# A tibble: 1 × 2\u001B[39m\n",
      "  .model  `mean(rmse)`\n",
      "  \u001B[3m\u001B[90m<chr>\u001B[39m\u001B[23m          \u001B[3m\u001B[90m<dbl>\u001B[39m\u001B[23m\n",
      "\u001B[90m1\u001B[39m prophet         1.98\n"
     ]
    }
   ]
  },
  {
   "cell_type": "code",
   "source": [
    "submission_prophet_2 <- fc_prophet %>% as_tibble() %>%\n",
    "  select(product_id, Date, `.mean`) %>%\n",
    "  rename(fc = `.mean`) %>%\n",
    "  mutate(across(fc, round))%>%\n",
    "  left_join(ids, by=\"product_id\") %>%\n",
    "  left_join(calendar_df, by=\"Date\") %>%\n",
    "  select(id, day, fc) %>%\n",
    "  pivot_wider(names_from = day, values_from = fc)"
   ],
   "metadata": {
    "id": "HIkmAo_khCpE"
   },
   "execution_count": 32,
   "outputs": []
  },
  {
   "cell_type": "code",
   "source": [
    "write.csv(submission_prophet_2, \"fc_prophet_2.csv\")"
   ],
   "metadata": {
    "id": "lNO54eolhTZI"
   },
   "execution_count": 34,
   "outputs": []
  }
 ]
}
