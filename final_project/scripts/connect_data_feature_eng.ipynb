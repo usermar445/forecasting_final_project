{
 "cells": [
  {
   "cell_type": "code",
   "execution_count": 1,
   "metadata": {
    "collapsed": true,
    "ExecuteTime": {
     "end_time": "2023-12-20T15:49:58.304960Z",
     "start_time": "2023-12-20T15:49:58.184115Z"
    }
   },
   "outputs": [],
   "source": [
    "ON_COLAB = False\n",
    "if ON_COLAB:\n",
    "    from google.colab import drive\n",
    "    drive.mount('/content/drive')"
   ]
  },
  {
   "cell_type": "code",
   "execution_count": 2,
   "outputs": [],
   "source": [
    "import pandas as pd\n",
    "import numpy as np"
   ],
   "metadata": {
    "collapsed": false,
    "ExecuteTime": {
     "end_time": "2023-12-20T15:49:58.554588Z",
     "start_time": "2023-12-20T15:49:58.190142Z"
    }
   }
  },
  {
   "cell_type": "code",
   "execution_count": 3,
   "outputs": [],
   "source": [
    "sales_train = pd.read_csv(\"../data/sales_train_validation_afcs2023.csv\")\n",
    "prices = pd.read_csv(\"../data/sell_prices_afcs2023.csv\")\n",
    "calendar = pd.read_csv(\"../data/calendar_afcs2023.csv\", parse_dates=[\"date\"])"
   ],
   "metadata": {
    "collapsed": false,
    "ExecuteTime": {
     "end_time": "2023-12-20T15:49:58.793264Z",
     "start_time": "2023-12-20T15:49:58.555785Z"
    }
   }
  },
  {
   "cell_type": "code",
   "execution_count": 4,
   "outputs": [],
   "source": [
    "date_range = pd.Series(pd.date_range(start=\"2011-01-29\", end=\"2016-06-19\", freq='D')).dt.strftime('%Y-%m-%d').to_list()\n",
    "date_range.insert(0, \"id\")\n",
    "sales_train.columns = date_range[:len(sales_train.columns)]\n",
    "sales_train[['item_id', \"Loc1\", \"Loc2\", \"Type\"]] = sales_train.id.str.rsplit(\"_\", n=3, expand=True)\n",
    "sales_train = sales_train.drop(\"id\", axis=1)\n",
    "sales_train = sales_train.melt(id_vars=['item_id', \"Loc1\", \"Loc2\", \"Type\"], var_name=\"date\", value_name=\"sales_amount\")\n",
    "sales_train[\"date\"] = pd.to_datetime(sales_train[\"date\"])"
   ],
   "metadata": {
    "collapsed": false,
    "ExecuteTime": {
     "end_time": "2023-12-20T15:49:59.176482Z",
     "start_time": "2023-12-20T15:49:58.802475Z"
    }
   }
  },
  {
   "cell_type": "code",
   "execution_count": 5,
   "outputs": [],
   "source": [
    "sales_train = pd.merge(sales_train, calendar, on='date')\n",
    "sales_train = sales_train.drop(columns=['Loc1', 'Loc2', \"Type\"])\n",
    "sales_train = pd.merge(sales_train, prices, on=['wm_yr_wk', 'item_id'],how ='left')\n",
    "sales_train = sales_train.drop('store_id',axis=1)"
   ],
   "metadata": {
    "collapsed": false,
    "ExecuteTime": {
     "end_time": "2023-12-20T15:50:00.341687Z",
     "start_time": "2023-12-20T15:49:59.179473Z"
    }
   }
  },
  {
   "cell_type": "markdown",
   "source": [
    "### Items were added at different times"
   ],
   "metadata": {
    "collapsed": false
   }
  },
  {
   "cell_type": "code",
   "execution_count": 6,
   "outputs": [
    {
     "data": {
      "text/plain": "         item_id       date\n0    FOODS_3_001 2011-01-29\n1    FOODS_3_002 2013-10-19\n2    FOODS_3_003 2015-01-17\n3    FOODS_3_004 2013-06-01\n4    FOODS_3_005 2011-01-29\n..           ...        ...\n818  FOODS_3_823 2011-02-19\n819  FOODS_3_824 2011-01-29\n820  FOODS_3_825 2011-01-29\n821  FOODS_3_826 2013-04-13\n822  FOODS_3_827 2014-04-26\n\n[823 rows x 2 columns]",
      "text/html": "<div>\n<style scoped>\n    .dataframe tbody tr th:only-of-type {\n        vertical-align: middle;\n    }\n\n    .dataframe tbody tr th {\n        vertical-align: top;\n    }\n\n    .dataframe thead th {\n        text-align: right;\n    }\n</style>\n<table border=\"1\" class=\"dataframe\">\n  <thead>\n    <tr style=\"text-align: right;\">\n      <th></th>\n      <th>item_id</th>\n      <th>date</th>\n    </tr>\n  </thead>\n  <tbody>\n    <tr>\n      <th>0</th>\n      <td>FOODS_3_001</td>\n      <td>2011-01-29</td>\n    </tr>\n    <tr>\n      <th>1</th>\n      <td>FOODS_3_002</td>\n      <td>2013-10-19</td>\n    </tr>\n    <tr>\n      <th>2</th>\n      <td>FOODS_3_003</td>\n      <td>2015-01-17</td>\n    </tr>\n    <tr>\n      <th>3</th>\n      <td>FOODS_3_004</td>\n      <td>2013-06-01</td>\n    </tr>\n    <tr>\n      <th>4</th>\n      <td>FOODS_3_005</td>\n      <td>2011-01-29</td>\n    </tr>\n    <tr>\n      <th>...</th>\n      <td>...</td>\n      <td>...</td>\n    </tr>\n    <tr>\n      <th>818</th>\n      <td>FOODS_3_823</td>\n      <td>2011-02-19</td>\n    </tr>\n    <tr>\n      <th>819</th>\n      <td>FOODS_3_824</td>\n      <td>2011-01-29</td>\n    </tr>\n    <tr>\n      <th>820</th>\n      <td>FOODS_3_825</td>\n      <td>2011-01-29</td>\n    </tr>\n    <tr>\n      <th>821</th>\n      <td>FOODS_3_826</td>\n      <td>2013-04-13</td>\n    </tr>\n    <tr>\n      <th>822</th>\n      <td>FOODS_3_827</td>\n      <td>2014-04-26</td>\n    </tr>\n  </tbody>\n</table>\n<p>823 rows × 2 columns</p>\n</div>"
     },
     "execution_count": 6,
     "metadata": {},
     "output_type": "execute_result"
    }
   ],
   "source": [
    "date_added = sales_train[sales_train.sell_price.notna()].groupby(\"item_id\")[\"date\"].min().reset_index()\n",
    "date_added"
   ],
   "metadata": {
    "collapsed": false,
    "ExecuteTime": {
     "end_time": "2023-12-20T15:50:00.542013Z",
     "start_time": "2023-12-20T15:50:00.342818Z"
    }
   }
  },
  {
   "cell_type": "code",
   "execution_count": 7,
   "outputs": [],
   "source": [
    "date_added[\"week_added\"] = 1\n",
    "sales_train = sales_train.merge(date_added, on=[\"item_id\", \"date\"], how='left')\n",
    "sales_train[\"week_added\"] = sales_train[\"week_added\"].fillna(0)"
   ],
   "metadata": {
    "collapsed": false,
    "ExecuteTime": {
     "end_time": "2023-12-20T15:50:00.941301Z",
     "start_time": "2023-12-20T15:50:00.542245Z"
    }
   }
  },
  {
   "cell_type": "markdown",
   "source": [
    "### Cleaning categorical values to ease one-hot encoding later on"
   ],
   "metadata": {
    "collapsed": false
   }
  },
  {
   "cell_type": "code",
   "execution_count": 8,
   "outputs": [],
   "source": [
    "sales_train[['event_name_1', 'event_name_2']] = sales_train[['event_name_1', 'event_name_2']].fillna(\"No event\")"
   ],
   "metadata": {
    "collapsed": false,
    "ExecuteTime": {
     "end_time": "2023-12-20T15:50:01.154976Z",
     "start_time": "2023-12-20T15:50:00.944269Z"
    }
   }
  },
  {
   "cell_type": "code",
   "execution_count": 9,
   "outputs": [],
   "source": [
    "sales_train[['event_type_1', 'event_type_2']] = sales_train[['event_type_1', 'event_type_2']].fillna(\"No event type\")"
   ],
   "metadata": {
    "collapsed": false,
    "ExecuteTime": {
     "end_time": "2023-12-20T15:50:01.319596Z",
     "start_time": "2023-12-20T15:50:01.156506Z"
    }
   }
  },
  {
   "cell_type": "code",
   "execution_count": 30,
   "outputs": [
    {
     "data": {
      "text/plain": "             item_id       date  sales_amount  wm_yr_wk    weekday  wday  \\\n0        FOODS_3_001 2011-01-29             0     11101   Saturday     1   \n823      FOODS_3_001 2011-01-30             2     11101     Sunday     2   \n1646     FOODS_3_001 2011-01-31             1     11101     Monday     3   \n2469     FOODS_3_001 2011-02-01             3     11101    Tuesday     4   \n3292     FOODS_3_001 2011-02-02             0     11101  Wednesday     5   \n...              ...        ...           ...       ...        ...   ...   \n1571106  FOODS_3_827 2016-04-20             0     11612  Wednesday     5   \n1571929  FOODS_3_827 2016-04-21             1     11612   Thursday     6   \n1572752  FOODS_3_827 2016-04-22             0     11612     Friday     7   \n1573575  FOODS_3_827 2016-04-23             0     11613   Saturday     1   \n1574398  FOODS_3_827 2016-04-24             3     11613     Sunday     2   \n\n         month  year event_name_1   event_type_1 event_name_2   event_type_2  \\\n0            1  2011     No event  No event type     No event  No event type   \n823          1  2011     No event  No event type     No event  No event type   \n1646         1  2011     No event  No event type     No event  No event type   \n2469         2  2011     No event  No event type     No event  No event type   \n3292         2  2011     No event  No event type     No event  No event type   \n...        ...   ...          ...            ...          ...            ...   \n1571106      4  2016     No event  No event type     No event  No event type   \n1571929      4  2016     No event  No event type     No event  No event type   \n1572752      4  2016     No event  No event type     No event  No event type   \n1573575      4  2016     No event  No event type     No event  No event type   \n1574398      4  2016     No event  No event type     No event  No event type   \n\n         snap_TX  sell_price  week_added price_category  \n0              0        2.28         1.0        mid-low  \n823            0        2.28         0.0        mid-low  \n1646           0        2.28         0.0        mid-low  \n2469           1        2.28         0.0        mid-low  \n3292           0        2.28         0.0        mid-low  \n...          ...         ...         ...            ...  \n1571106        0        1.00         0.0            low  \n1571929        0        1.00         0.0            low  \n1572752        0        1.00         0.0            low  \n1573575        0        1.00         0.0            low  \n1574398        0        1.00         0.0            low  \n\n[1574399 rows x 16 columns]",
      "text/html": "<div>\n<style scoped>\n    .dataframe tbody tr th:only-of-type {\n        vertical-align: middle;\n    }\n\n    .dataframe tbody tr th {\n        vertical-align: top;\n    }\n\n    .dataframe thead th {\n        text-align: right;\n    }\n</style>\n<table border=\"1\" class=\"dataframe\">\n  <thead>\n    <tr style=\"text-align: right;\">\n      <th></th>\n      <th>item_id</th>\n      <th>date</th>\n      <th>sales_amount</th>\n      <th>wm_yr_wk</th>\n      <th>weekday</th>\n      <th>wday</th>\n      <th>month</th>\n      <th>year</th>\n      <th>event_name_1</th>\n      <th>event_type_1</th>\n      <th>event_name_2</th>\n      <th>event_type_2</th>\n      <th>snap_TX</th>\n      <th>sell_price</th>\n      <th>week_added</th>\n      <th>price_category</th>\n    </tr>\n  </thead>\n  <tbody>\n    <tr>\n      <th>0</th>\n      <td>FOODS_3_001</td>\n      <td>2011-01-29</td>\n      <td>0</td>\n      <td>11101</td>\n      <td>Saturday</td>\n      <td>1</td>\n      <td>1</td>\n      <td>2011</td>\n      <td>No event</td>\n      <td>No event type</td>\n      <td>No event</td>\n      <td>No event type</td>\n      <td>0</td>\n      <td>2.28</td>\n      <td>1.0</td>\n      <td>mid-low</td>\n    </tr>\n    <tr>\n      <th>823</th>\n      <td>FOODS_3_001</td>\n      <td>2011-01-30</td>\n      <td>2</td>\n      <td>11101</td>\n      <td>Sunday</td>\n      <td>2</td>\n      <td>1</td>\n      <td>2011</td>\n      <td>No event</td>\n      <td>No event type</td>\n      <td>No event</td>\n      <td>No event type</td>\n      <td>0</td>\n      <td>2.28</td>\n      <td>0.0</td>\n      <td>mid-low</td>\n    </tr>\n    <tr>\n      <th>1646</th>\n      <td>FOODS_3_001</td>\n      <td>2011-01-31</td>\n      <td>1</td>\n      <td>11101</td>\n      <td>Monday</td>\n      <td>3</td>\n      <td>1</td>\n      <td>2011</td>\n      <td>No event</td>\n      <td>No event type</td>\n      <td>No event</td>\n      <td>No event type</td>\n      <td>0</td>\n      <td>2.28</td>\n      <td>0.0</td>\n      <td>mid-low</td>\n    </tr>\n    <tr>\n      <th>2469</th>\n      <td>FOODS_3_001</td>\n      <td>2011-02-01</td>\n      <td>3</td>\n      <td>11101</td>\n      <td>Tuesday</td>\n      <td>4</td>\n      <td>2</td>\n      <td>2011</td>\n      <td>No event</td>\n      <td>No event type</td>\n      <td>No event</td>\n      <td>No event type</td>\n      <td>1</td>\n      <td>2.28</td>\n      <td>0.0</td>\n      <td>mid-low</td>\n    </tr>\n    <tr>\n      <th>3292</th>\n      <td>FOODS_3_001</td>\n      <td>2011-02-02</td>\n      <td>0</td>\n      <td>11101</td>\n      <td>Wednesday</td>\n      <td>5</td>\n      <td>2</td>\n      <td>2011</td>\n      <td>No event</td>\n      <td>No event type</td>\n      <td>No event</td>\n      <td>No event type</td>\n      <td>0</td>\n      <td>2.28</td>\n      <td>0.0</td>\n      <td>mid-low</td>\n    </tr>\n    <tr>\n      <th>...</th>\n      <td>...</td>\n      <td>...</td>\n      <td>...</td>\n      <td>...</td>\n      <td>...</td>\n      <td>...</td>\n      <td>...</td>\n      <td>...</td>\n      <td>...</td>\n      <td>...</td>\n      <td>...</td>\n      <td>...</td>\n      <td>...</td>\n      <td>...</td>\n      <td>...</td>\n      <td>...</td>\n    </tr>\n    <tr>\n      <th>1571106</th>\n      <td>FOODS_3_827</td>\n      <td>2016-04-20</td>\n      <td>0</td>\n      <td>11612</td>\n      <td>Wednesday</td>\n      <td>5</td>\n      <td>4</td>\n      <td>2016</td>\n      <td>No event</td>\n      <td>No event type</td>\n      <td>No event</td>\n      <td>No event type</td>\n      <td>0</td>\n      <td>1.00</td>\n      <td>0.0</td>\n      <td>low</td>\n    </tr>\n    <tr>\n      <th>1571929</th>\n      <td>FOODS_3_827</td>\n      <td>2016-04-21</td>\n      <td>1</td>\n      <td>11612</td>\n      <td>Thursday</td>\n      <td>6</td>\n      <td>4</td>\n      <td>2016</td>\n      <td>No event</td>\n      <td>No event type</td>\n      <td>No event</td>\n      <td>No event type</td>\n      <td>0</td>\n      <td>1.00</td>\n      <td>0.0</td>\n      <td>low</td>\n    </tr>\n    <tr>\n      <th>1572752</th>\n      <td>FOODS_3_827</td>\n      <td>2016-04-22</td>\n      <td>0</td>\n      <td>11612</td>\n      <td>Friday</td>\n      <td>7</td>\n      <td>4</td>\n      <td>2016</td>\n      <td>No event</td>\n      <td>No event type</td>\n      <td>No event</td>\n      <td>No event type</td>\n      <td>0</td>\n      <td>1.00</td>\n      <td>0.0</td>\n      <td>low</td>\n    </tr>\n    <tr>\n      <th>1573575</th>\n      <td>FOODS_3_827</td>\n      <td>2016-04-23</td>\n      <td>0</td>\n      <td>11613</td>\n      <td>Saturday</td>\n      <td>1</td>\n      <td>4</td>\n      <td>2016</td>\n      <td>No event</td>\n      <td>No event type</td>\n      <td>No event</td>\n      <td>No event type</td>\n      <td>0</td>\n      <td>1.00</td>\n      <td>0.0</td>\n      <td>low</td>\n    </tr>\n    <tr>\n      <th>1574398</th>\n      <td>FOODS_3_827</td>\n      <td>2016-04-24</td>\n      <td>3</td>\n      <td>11613</td>\n      <td>Sunday</td>\n      <td>2</td>\n      <td>4</td>\n      <td>2016</td>\n      <td>No event</td>\n      <td>No event type</td>\n      <td>No event</td>\n      <td>No event type</td>\n      <td>0</td>\n      <td>1.00</td>\n      <td>0.0</td>\n      <td>low</td>\n    </tr>\n  </tbody>\n</table>\n<p>1574399 rows × 16 columns</p>\n</div>"
     },
     "execution_count": 30,
     "metadata": {},
     "output_type": "execute_result"
    }
   ],
   "source": [
    "sales_train"
   ],
   "metadata": {
    "collapsed": false
   }
  },
  {
   "cell_type": "code",
   "execution_count": 10,
   "outputs": [],
   "source": [
    "sales_train = sales_train.sort_values([\"item_id\", \"date\"])"
   ],
   "metadata": {
    "collapsed": false,
    "ExecuteTime": {
     "end_time": "2023-12-20T15:50:02.234566Z",
     "start_time": "2023-12-20T15:50:01.335079Z"
    }
   }
  },
  {
   "cell_type": "markdown",
   "source": [
    "### Feature engineering on sales price"
   ],
   "metadata": {
    "collapsed": false
   }
  },
  {
   "cell_type": "markdown",
   "source": [
    "### Creating Classification Of Price"
   ],
   "metadata": {
    "collapsed": false
   }
  },
  {
   "cell_type": "code",
   "execution_count": 22,
   "outputs": [],
   "source": [
    "quantiles = sales_train.sell_price.quantile([0, 0.25, 0.5, 0.75, 1]).to_list()"
   ],
   "metadata": {
    "collapsed": false,
    "ExecuteTime": {
     "end_time": "2023-12-20T15:54:33.183837Z",
     "start_time": "2023-12-20T15:54:33.156486Z"
    }
   }
  },
  {
   "cell_type": "code",
   "execution_count": 31,
   "outputs": [],
   "source": [
    "sales_train[\"price_category\"] = pd.cut(sales_train[\"sell_price\"], quantiles, labels=[\"low\", \"mid-low\", \"mid-high\", \"high\"])"
   ],
   "metadata": {
    "collapsed": false,
    "ExecuteTime": {
     "end_time": "2023-12-20T15:57:33.325394Z",
     "start_time": "2023-12-20T15:57:33.292001Z"
    }
   }
  },
  {
   "cell_type": "markdown",
   "source": [
    "#### Filling Null values for sales price if no items not added yet (do not have a price)."
   ],
   "metadata": {
    "collapsed": false
   }
  },
  {
   "cell_type": "code",
   "execution_count": 32,
   "outputs": [],
   "source": [
    "sales_train['sell_price'] = sales_train['sell_price'].fillna(0)"
   ],
   "metadata": {
    "collapsed": false,
    "ExecuteTime": {
     "end_time": "2023-12-20T15:57:35.478740Z",
     "start_time": "2023-12-20T15:57:35.461248Z"
    }
   }
  },
  {
   "cell_type": "markdown",
   "source": [
    "#### Creating weekly shifted/ lagged values\n",
    "\n",
    "The assumption is the following:\n",
    "Since we are transposing $price_t$ to $price_{t+1}$, for $price_0$ for each product we need to backfill values for the first week, since these were shifted into the future."
   ],
   "metadata": {
    "collapsed": false
   }
  },
  {
   "cell_type": "code",
   "execution_count": 33,
   "outputs": [],
   "source": [
    "lagged_8_days = (\n",
    "    sales_train\n",
    "    .set_index(\"date\")\n",
    "    .groupby(\"item_id\", as_index=False)[[\"sell_price\", \"price_category\", \"item_id\", \"sales_amount\", \"event_name_1\", \"event_name_2\", \"event_type_1\", \"event_type_2\"]]\n",
    "    .shift(periods=7)\n",
    "    .reset_index()\n",
    "    .bfill()\n",
    "    .rename(columns={\n",
    "        \"sell_price\": \"7dl_sell_price\",\n",
    "        \"price_category\": \"7dl_price_category\",\n",
    "        \"sales_amount\": \"7dl_sales_amount\",\n",
    "        \"event_name_1\": \"7dl_event_name_1\",\n",
    "        \"event_name_2\": \"7dl_event_name_2\",\n",
    "        \"event_type_1\": \"7dl_event_type_1\",\n",
    "        \"event_type_2\": \"7dl_event_type_2\"\n",
    "    })\n",
    ")\n",
    "\n",
    "sales_train = sales_train.merge(lagged_8_days, on=[\"date\", \"item_id\"])"
   ],
   "metadata": {
    "collapsed": false,
    "ExecuteTime": {
     "end_time": "2023-12-20T15:58:02.611568Z",
     "start_time": "2023-12-20T15:58:00.423318Z"
    }
   }
  },
  {
   "cell_type": "markdown",
   "source": [
    "### Adding Weekly, Monthly, Quaterly and Yearly Percent change in prices"
   ],
   "metadata": {
    "collapsed": false
   }
  },
  {
   "cell_type": "code",
   "execution_count": 34,
   "outputs": [],
   "source": [
    "weekly_changes_in_price = (\n",
    "    sales_train\n",
    "    .groupby(['item_id', \"wm_yr_wk\"])['sell_price']\n",
    "    .mean()\n",
    "    .pct_change()\n",
    "    .reset_index()\n",
    "    .rename(columns={\"sell_price\": \"weekly_pct_change\"})\n",
    "    .fillna(0)\n",
    ")\n",
    "weekly_changes_in_price.loc[weekly_changes_in_price[\"weekly_pct_change\"] == np.inf, \"weekly_pct_change\"] = 0\n",
    "weekly_changes_in_price[\"weekly_pct_change\"] = weekly_changes_in_price[\"weekly_pct_change\"] * 100"
   ],
   "metadata": {
    "collapsed": false,
    "ExecuteTime": {
     "end_time": "2023-12-20T15:58:06.341352Z",
     "start_time": "2023-12-20T15:58:06.183876Z"
    }
   }
  },
  {
   "cell_type": "code",
   "execution_count": 35,
   "outputs": [],
   "source": [
    "monthly_changes_in_price = (\n",
    "    sales_train\n",
    "    .set_index(\"date\")\n",
    "    .groupby(['item_id', pd.Grouper(freq=\"M\")])['sell_price']\n",
    "    .mean()\n",
    "    .pct_change()\n",
    "    .reset_index()\n",
    "    .rename(columns={\"sell_price\": \"monthly_pct_change\"})\n",
    "    .fillna(0)\n",
    ")\n",
    "monthly_changes_in_price.loc[monthly_changes_in_price[\"monthly_pct_change\"] == np.inf, \"monthly_pct_change\"] = 0\n",
    "monthly_changes_in_price[\"monthly_pct_change\"] = monthly_changes_in_price[\"monthly_pct_change\"] * 100"
   ],
   "metadata": {
    "collapsed": false,
    "ExecuteTime": {
     "end_time": "2023-12-20T15:58:09.569335Z",
     "start_time": "2023-12-20T15:58:07.163992Z"
    }
   }
  },
  {
   "cell_type": "code",
   "execution_count": 36,
   "outputs": [],
   "source": [
    "quaterly_changes_in_price = (\n",
    "    sales_train\n",
    "    .set_index(\"date\")\n",
    "    .groupby(['item_id', pd.Grouper(freq=\"Q\")])['sell_price']\n",
    "    .mean()\n",
    "    .pct_change()\n",
    "    .reset_index()\n",
    "    .rename(columns={\"sell_price\": \"qrt_pct_change\"})\n",
    "    .fillna(0)\n",
    ")\n",
    "quaterly_changes_in_price.loc[quaterly_changes_in_price[\"qrt_pct_change\"] == np.inf, \"qrt_pct_change\"] = 0\n",
    "quaterly_changes_in_price[\"qrt_pct_change\"] = quaterly_changes_in_price[\"qrt_pct_change\"] * 100"
   ],
   "metadata": {
    "collapsed": false,
    "ExecuteTime": {
     "end_time": "2023-12-20T15:58:13.558278Z",
     "start_time": "2023-12-20T15:58:11.255512Z"
    }
   }
  },
  {
   "cell_type": "code",
   "execution_count": 37,
   "outputs": [],
   "source": [
    "yearly_changes_in_price = (\n",
    "    sales_train\n",
    "    .set_index(\"date\")\n",
    "    .groupby(['item_id', pd.Grouper(freq=\"Y\")])['sell_price']\n",
    "    .mean()\n",
    "    .pct_change()\n",
    "    .reset_index()\n",
    "    .rename(columns={\"sell_price\": \"yearly_pct_change\"})\n",
    "    .fillna(0)\n",
    ")\n",
    "yearly_changes_in_price.loc[yearly_changes_in_price[\"yearly_pct_change\"] == np.inf, \"yearly_pct_change\"] = 0\n",
    "yearly_changes_in_price[\"yearly_pct_change\"] = yearly_changes_in_price[\"yearly_pct_change\"] * 100"
   ],
   "metadata": {
    "collapsed": false,
    "ExecuteTime": {
     "end_time": "2023-12-20T15:58:17.519328Z",
     "start_time": "2023-12-20T15:58:15.334224Z"
    }
   }
  },
  {
   "cell_type": "code",
   "execution_count": 38,
   "outputs": [],
   "source": [
    "sales_train = sales_train.merge(weekly_changes_in_price, on=[\"item_id\", \"wm_yr_wk\"])"
   ],
   "metadata": {
    "collapsed": false,
    "ExecuteTime": {
     "end_time": "2023-12-20T15:58:19.019339Z",
     "start_time": "2023-12-20T15:58:18.370881Z"
    }
   }
  },
  {
   "cell_type": "code",
   "execution_count": 39,
   "outputs": [],
   "source": [
    "sales_train = sales_train.merge(\n",
    "    monthly_changes_in_price,\n",
    "    left_on=[\n",
    "        \"item_id\",\n",
    "        sales_train['date'].dt.to_period('M')\n",
    "    ],\n",
    "    right_on=[\n",
    "        \"item_id\",\n",
    "        monthly_changes_in_price['date'].dt.to_period('M')\n",
    "    ]\n",
    ").drop([\"date_y\", \"key_1\"], axis=1).rename(columns={\"date_x\":\"date\"})"
   ],
   "metadata": {
    "collapsed": false,
    "ExecuteTime": {
     "end_time": "2023-12-20T15:58:20.361349Z",
     "start_time": "2023-12-20T15:58:19.448851Z"
    }
   }
  },
  {
   "cell_type": "code",
   "execution_count": 40,
   "outputs": [],
   "source": [
    "sales_train = sales_train.merge(\n",
    "    quaterly_changes_in_price,\n",
    "    left_on=[\n",
    "        \"item_id\",\n",
    "        sales_train['date'].dt.to_period('Q')\n",
    "    ],\n",
    "    right_on=[\n",
    "        \"item_id\",\n",
    "        quaterly_changes_in_price['date'].dt.to_period('Q')\n",
    "    ]\n",
    ").drop([\"date_y\", \"key_1\"], axis=1).rename(columns={\"date_x\":\"date\"})"
   ],
   "metadata": {
    "collapsed": false,
    "ExecuteTime": {
     "end_time": "2023-12-20T15:58:21.384169Z",
     "start_time": "2023-12-20T15:58:20.360947Z"
    }
   }
  },
  {
   "cell_type": "code",
   "execution_count": 41,
   "outputs": [],
   "source": [
    "sales_train = sales_train.merge(\n",
    "    yearly_changes_in_price,\n",
    "    left_on=[\n",
    "        \"item_id\",\n",
    "        sales_train['date'].dt.to_period('Y')\n",
    "    ],\n",
    "    right_on=[\n",
    "        \"item_id\",\n",
    "        yearly_changes_in_price['date'].dt.to_period('Y')\n",
    "    ]\n",
    ").drop([\"date_y\", \"key_1\"], axis=1).rename(columns={\"date_x\":\"date\"})"
   ],
   "metadata": {
    "collapsed": false,
    "ExecuteTime": {
     "end_time": "2023-12-20T15:58:22.345454Z",
     "start_time": "2023-12-20T15:58:21.445025Z"
    }
   }
  },
  {
   "cell_type": "markdown",
   "source": [
    "### Adding Weekday, Weekend and Holiday Dummy Vars"
   ],
   "metadata": {
    "collapsed": false
   }
  },
  {
   "cell_type": "code",
   "execution_count": 42,
   "outputs": [],
   "source": [
    "sales_train[\"is_weekday\"] = sales_train[\"weekday\"].apply(lambda x: x not in [\"Saturday\",\"Sunday\"])"
   ],
   "metadata": {
    "collapsed": false,
    "ExecuteTime": {
     "end_time": "2023-12-20T15:58:23.010340Z",
     "start_time": "2023-12-20T15:58:22.751820Z"
    }
   }
  },
  {
   "cell_type": "code",
   "execution_count": 43,
   "outputs": [],
   "source": [
    "sales_train[\"is_weekend\"] = sales_train[\"weekday\"].apply(lambda x: x in [\"Saturday\",\"Sunday\"])"
   ],
   "metadata": {
    "collapsed": false,
    "ExecuteTime": {
     "end_time": "2023-12-20T15:58:23.603679Z",
     "start_time": "2023-12-20T15:58:23.328937Z"
    }
   }
  },
  {
   "cell_type": "markdown",
   "source": [
    "Here we can have either 0, 1 or 2 events together."
   ],
   "metadata": {
    "collapsed": false
   }
  },
  {
   "cell_type": "code",
   "execution_count": 44,
   "outputs": [],
   "source": [
    "sales_train[\"is_holiday\"] = sales_train.apply(\n",
    "    lambda x: sum(\n",
    "        [\n",
    "            int(x[\"event_name_1\"] != 'No event'),\n",
    "            int(x[\"event_name_2\"] != 'No event'),\n",
    "        ]\n",
    "    ), axis=1\n",
    ")\n"
   ],
   "metadata": {
    "collapsed": false,
    "ExecuteTime": {
     "end_time": "2023-12-20T15:58:40.447253Z",
     "start_time": "2023-12-20T15:58:24.719937Z"
    }
   }
  },
  {
   "cell_type": "code",
   "execution_count": 45,
   "outputs": [],
   "source": [
    "sales_train.to_csv(\"../data/fulling_connected_feature_eng_train_data.csv\")"
   ],
   "metadata": {
    "collapsed": false,
    "ExecuteTime": {
     "end_time": "2023-12-20T16:00:20.845091Z",
     "start_time": "2023-12-20T16:00:00.556717Z"
    }
   }
  },
  {
   "cell_type": "code",
   "execution_count": 48,
   "outputs": [],
   "source": [
    "sales_train.to_pickle(\"../data/fulling_connected_feature_eng_train_data.pkl\")"
   ],
   "metadata": {
    "collapsed": false,
    "ExecuteTime": {
     "end_time": "2023-12-20T16:00:49.615253Z",
     "start_time": "2023-12-20T16:00:48.860884Z"
    }
   }
  },
  {
   "cell_type": "code",
   "execution_count": null,
   "outputs": [],
   "source": [],
   "metadata": {
    "collapsed": false
   }
  }
 ],
 "metadata": {
  "kernelspec": {
   "display_name": "Python 3",
   "language": "python",
   "name": "python3"
  },
  "language_info": {
   "codemirror_mode": {
    "name": "ipython",
    "version": 2
   },
   "file_extension": ".py",
   "mimetype": "text/x-python",
   "name": "python",
   "nbconvert_exporter": "python",
   "pygments_lexer": "ipython2",
   "version": "2.7.6"
  }
 },
 "nbformat": 4,
 "nbformat_minor": 0
}
